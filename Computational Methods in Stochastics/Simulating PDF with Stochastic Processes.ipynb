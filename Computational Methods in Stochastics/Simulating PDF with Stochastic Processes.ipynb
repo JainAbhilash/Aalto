{
 "cells": [
  {
   "cell_type": "code",
   "execution_count": 1,
   "metadata": {},
   "outputs": [
    {
     "name": "stdout",
     "output_type": "stream",
     "text": [
      "\tN=100|\t N=1000|  N=10000 \n",
      "Mean:  1.4889 \t 1.4496\t  1.4958\n",
      "Var :  0.8215\t0.6651\t  0.6651\n",
      "Mode:  0.9715\t0.9800\t  0.7480\n"
     ]
    },
    {
     "data": {
      "text/plain": [
       "<Figure size 640x480 with 1 Axes>"
      ]
     },
     "metadata": {},
     "output_type": "display_data"
    }
   ],
   "source": [
    "##Solution for question 1\n",
    "\n",
    "from random import random as rand\n",
    "from matplotlib import pyplot as plt\n",
    "import matplotlib as mpl\n",
    "from math import log\n",
    "import seaborn as sns\n",
    "import numpy as np\n",
    "\n",
    "# function to calculate exponential random variables\n",
    "#using the definitions from the lecture slides\n",
    "\n",
    "def expn(lamda):\n",
    "    un=rand()\n",
    "    ex=-(1/lamda)*log(1-un)\n",
    "    return ex\n",
    "\n",
    "# function to generate gamma distribution random variables \n",
    "#by summing up exponential random variables,\n",
    "# definitions from the lecture slide\n",
    "\n",
    "def gamma(n,scale,number=1):\n",
    "    if number == 1:\n",
    "        return sum([expn(scale) for _ in range(n)])\n",
    "    return [sum([expn(scale) \n",
    "                 for _ in range(n)])\n",
    "                for _ in range(number)]\n",
    "#using the method definition of 'list comprehensions'\n",
    "\n",
    "#defining own functions of mean,variance and mode\n",
    "def mean(distr):\n",
    "    return sum(distr)/len(distr)\n",
    "\n",
    "def variance(distr):\n",
    "    distr = np.array(distr)\n",
    "    return mean(distr**2) - mean(distr)**2\n",
    "\n",
    "def mode(distr):\n",
    "    return max(set(distr), key=distr.count)\n",
    "\n",
    "# calculating for numbers 100,1000,10000\n",
    "gamma_100   = gamma(3,2,100)\n",
    "gamma_1000  = gamma(3,2,1000)\n",
    "gamma_10000 = gamma(3,2,10000)\n",
    "\n",
    "\n",
    "print(\"\\tN=100|\\t N=1000|  N=10000 \\nMean: {:7.4f} \\t {:6.4f}\\t{:8.4f}\\nVar : {:7.4f}\\t{:6.4f}\\t{:8.4f}\\nMode: {:7.4f}\\t{:6.4f}\\t{:8.4f}\".format(\n",
    "    mean(gamma_100),mean(gamma_1000),mean(gamma_10000),\n",
    "    variance(gamma_100),variance(gamma_1000),variance(gamma_1000),\n",
    "    mode(gamma_100),mode(gamma_1000),mode(gamma_10000)))\n",
    "\n",
    "#relation of variance to N\n",
    "var_dist=[]\n",
    "N = range(2,10001)\n",
    "for n in N:\n",
    "    var_dist.append(variance(gamma(3,2,n)))\n",
    "\n",
    "    \n",
    "ax = plt.plot(N,var_dist)\n",
    "plt.xlabel(\"N\")\n",
    "plt.ylabel(\"Variance(Gamma(3,2,N))\")\n",
    "plt.show()\n"
   ]
  },
  {
   "cell_type": "code",
   "execution_count": 2,
   "metadata": {},
   "outputs": [
    {
     "name": "stderr",
     "output_type": "stream",
     "text": [
      "D:\\Anaconda3\\lib\\site-packages\\matplotlib\\axes\\_axes.py:6462: UserWarning: The 'normed' kwarg is deprecated, and has been replaced by the 'density' kwarg.\n",
      "  warnings.warn(\"The 'normed' kwarg is deprecated, and has been \"\n"
     ]
    },
    {
     "data": {
      "text/plain": [
       "[Text(0.5,0,'Mean of 100 samples of Gamma(3,2)')]"
      ]
     },
     "execution_count": 2,
     "metadata": {},
     "output_type": "execute_result"
    },
    {
     "data": {
      "image/png": "[encoded data removed]",
      "text/plain": [
       "<Figure size 432x288 with 1 Axes>"
      ]
     },
     "metadata": {},
     "output_type": "display_data"
    }
   ],
   "source": [
    "#Applying the principles of Central Limit Theorem,\n",
    "#as n approaches infinity we will get a normal distribution,\n",
    "# which is what we exactly see, if we increase it to 10000,\n",
    "#the bell curve is more prominant\n",
    "meansofdistr =[]\n",
    "N = 100\n",
    "for _ in range(N):\n",
    "    meansofdistr.append(mean(gamma(3,2,N)))\n",
    "    \n",
    "ax=sns.distplot(meansofdistr)\n",
    "ax.set(xlabel=\"Mean of 100 samples of Gamma(3,2)\")\n",
    "#end of q1"
   ]
  },
  {
   "cell_type": "code",
   "execution_count": 4,
   "metadata": {},
   "outputs": [
    {
     "data": {
      "image/png": "[encoded data removed]",
      "text/plain": [
       "<Figure size 432x288 with 1 Axes>"
      ]
     },
     "metadata": {},
     "output_type": "display_data"
    }
   ],
   "source": [
    "# Exercise 2: Lets first define a function to generate Y~N(0,4)\n",
    "# Through Normal Distribution\n",
    "\n",
    "#redefining Expn function to accomadate paramter n\n",
    "\n",
    "def gen_exp(x,l):\n",
    "    return l*np.exp(-l*x)\n",
    "\n",
    "# Defining the normal distribution density function \n",
    "def gen_normal(x,mu,sigma):\n",
    "    return (1/(np.sqrt(2*np.pi)*sigma))*\n",
    "                    np.exp(-1/(2*sigma**2)*(x-mu)**2)\n",
    "\n",
    "# trying to stimulate the PDF\n",
    "# Creating a range for the x-axis distribution of Z \n",
    "#i.e from 0 to 10 at an interval of 0.1\n",
    "Z = np.arange(0,10,.1)\n",
    "# How many random samples to take for Monte-Carlo Integration\n",
    "N = 1000\n",
    "# The probability density function for z that will be calculated\n",
    "p_z = []\n",
    "\n",
    "# Parameters for X~Exp(1) and Y~N(0,4)\n",
    "mu =0\n",
    "sigma = 2\n",
    "l =1\n",
    "\n",
    "# For each point on the x-axis we shall evaluate the integral\n",
    "for z in Z:\n",
    "    # A temporary array to hold all the function values at a point z\n",
    "    arry = []\n",
    "    # N runs to get samples of the integral\n",
    "    for _ in range(N):\n",
    "        # Generating uniform random variables in [0,z] \n",
    "        #as the integral is from [0,z] limits\n",
    "        x_i = np.random.uniform(low=0,high=z)\n",
    "        e = gen_exp(x_i,l)\n",
    "        n = gen_normal(z-x_i,mu,sigma)\n",
    "        # calulating the convolution \n",
    "        arry.append(n*e)\n",
    "    # Calculating the value of the integral\n",
    "    #at that point and muliplying by the volume\n",
    "    p_z.append(mean(arry)*z)\n",
    "\n",
    "#Plotting the graph\n",
    "\n",
    "plt.plot(Z,(p_z))\n",
    "plt.show()"
   ]
  }
 ],
 "metadata": {
  "kernelspec": {
   "display_name": "Python 3",
   "language": "python",
   "name": "python3"
  },
  "language_info": {
   "codemirror_mode": {
    "name": "ipython",
    "version": 3
   },
   "file_extension": ".py",
   "mimetype": "text/x-python",
   "name": "python",
   "nbconvert_exporter": "python",
   "pygments_lexer": "ipython3",
   "version": "3.6.6"
  }
 },
 "nbformat": 4,
 "nbformat_minor": 2
}
