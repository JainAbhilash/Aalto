{
 "cells": [
  {
   "cell_type": "markdown",
   "metadata": {},
   "source": [
    "## GGL RANDOM NUMBER GENERATOR"
   ]
  },
  {
   "cell_type": "code",
   "execution_count": null,
   "metadata": {},
   "outputs": [],
   "source": [
    "import numpy as np\n",
    "import matplotlib.pyplot as plt\n",
    "import seaborn as sns\n",
    "#Function to create a GGL Function\n",
    "def GGL(Num_range,seed):\n",
    "    x=seed #initializing first random number to seed\n",
    "    ran_generated=[]\n",
    "    #loop through to generate the random numbers\n",
    "    for i in range(0,Num_range):\n",
    "        x=(x*16807)%(2**31-1)\n",
    "        x=x\n",
    "        ran_generated.append(x)\n",
    "    ran_generated=np.array(ran_generated)\n",
    "    return ran_generated/(2**31-1),ran_generated\n",
    "a,b=GGL(1000000,10)\n",
    "\n",
    "sns.distplot(a)#run this cell again if plot doesnt show up   "
   ]
  },
  {
   "cell_type": "markdown",
   "metadata": {},
   "source": [
    "## RAN3 RANDOM NUMBER GENERATOR"
   ]
  },
  {
   "cell_type": "code",
   "execution_count": null,
   "metadata": {},
   "outputs": [],
   "source": [
    "#Function to create a Ran3 function\n",
    "def Ran3(Ran_ggl,Num_range):\n",
    "    Ran_ggl_55=Ran_ggl[:55] #picking the first 55 elements\n",
    "    Ran3_vect=[]\n",
    "    m=2**55-1\n",
    "    #loop through to generate the rest of the random variables \n",
    "    for i in range(0,Num_range):\n",
    "        x=(Ran_ggl_55[i]-Ran_ggl_55[i+31])%m\n",
    "        Ran_ggl_55=np.append(Ran_ggl_55,x)\n",
    "        x=x/m\n",
    "        Ran3_vect.append(x)\n",
    "    return Ran3_vect\n",
    "\n",
    "c=Ran3(b,200000)\n",
    "\n",
    "sns.distplot(c)"
   ]
  },
  {
   "cell_type": "code",
   "execution_count": null,
   "metadata": {},
   "outputs": [],
   "source": [
    "gg_norm1,ggl1=GGL(100000,10)\n",
    "gg_norm2,ggl2=GGL(100000,100)\n",
    "#plt.xlim([0.2,0.5])\n",
    "plt.scatter(gg_norm1,gg_norm2)\n",
    "#HYPERPLANES when the difference between two seeds is not high!, it goes away when the seed difference is very high"
   ]
  },
  {
   "cell_type": "code",
   "execution_count": null,
   "metadata": {},
   "outputs": [],
   "source": [
    "print(\"mean of GGl\")\n",
    "print(\"Mean of Random Numbers generated from GGL sample-1\",np.mean(gg_norm1))\n",
    "print(\"Mean of Random Numbers generated from GGL sample-2\",np.mean(gg_norm2))\n",
    "print(\"Variance of GGL\")\n",
    "print(\"Variance of Random Numbers generated from GGL sample-1\",np.var(gg_norm1))\n",
    "print(\"Variance of Random Numbers generated from GGL sample-2\",np.var(gg_norm2))\n",
    "#Pretty consistent with the mean and variance of uniform distribution(0-1)"
   ]
  },
  {
   "cell_type": "code",
   "execution_count": null,
   "metadata": {},
   "outputs": [],
   "source": [
    "ran3_1=Ran3(ggl1,100000)\n",
    "ran3_2=Ran3(ggl2,100000)\n",
    "plt.xlim([0.2,0.22])\n",
    "plt.scatter(ran3_1,ran3_2)\n",
    "print(\"mean of RAN3\")\n",
    "print(\"Mean of Random Numbers generated from RAN-3 sample-1\",np.mean(ran3_1))\n",
    "print(\"Mean of Random Numbers generated from RAN-3 sample-2\",np.mean(ran3_2))\n",
    "print(\"Variance of RAN3\")\n",
    "print(\"Variance of Random Numbers generated from RAN-3 sample-1\",np.var(ran3_1))\n",
    "print(\"Variance of Random Numbers generated from RAN-3 sample-2\",np.var(ran3_2))\n",
    "#Pretty consistent with the mean and variance of uniform distribution(0-1)"
   ]
  },
  {
   "cell_type": "code",
   "execution_count": null,
   "metadata": {},
   "outputs": [],
   "source": [
    "from random import random as ran\n",
    "\n",
    "pythrand1=[]\n",
    "pythrand2=[]\n",
    "for _ in range(100000):\n",
    "     pythrand1.append(ran())\n",
    "     pythrand2.append(ran())\n",
    "plt.scatter\n",
    "plt.scatter(pythrand1,pythrand2)\n",
    "print(\"mean of PYTHRAND\")\n",
    "print(\"Mean of Random Numbers generated from PYTHRAND sample-1\",np.mean(pythrand1))\n",
    "print(\"Mean of Random Numbers generated from PYTHRAND sample-2\",np.mean(pythrand2))\n",
    "print(\"Variance of PYTHRAND\")\n",
    "print(\"Variance of Random Numbers generated from PYTHRAND sample-1\",np.var(pythrand1))\n",
    "print(\"Variance of Random Numbers generated from PYTHRAND sample-2\",np.var(pythrand2))\n",
    "#Pretty consistent with the mean and variance of uniform distribution(0-1)"
   ]
  },
  {
   "cell_type": "markdown",
   "metadata": {},
   "source": [
    "## COMPARISIONS AMONG THREE GENERATORS"
   ]
  },
  {
   "cell_type": "code",
   "execution_count": null,
   "metadata": {},
   "outputs": [],
   "source": [
    "import matplotlib as mpl\n",
    "mpl.rcParams['figure.dpi']=150\n",
    "fig,ax=plt.subplots(1,3,sharex='col',sharey='row')\n",
    "labels=['GGL','RAN3','PythonRand']\n",
    "for label,axes in zip(labels,ax):\n",
    "    axes.set(xlim=([0.2,0.22]),title=label)\n",
    "#Comparing a snippet of each of the outputs of the funtions.. OUR RAN3 is pretty good compared to Python Random Function\n",
    "ax[0].scatter(gg_norm1,gg_norm2)\n",
    "ax[1].scatter(ran3_1,ran3_2)\n",
    "ax[2].scatter(pythrand1,pythrand2)\n",
    "fig.canvas.draw()"
   ]
  },
  {
   "cell_type": "code",
   "execution_count": null,
   "metadata": {},
   "outputs": [],
   "source": []
  }
 ],
 "metadata": {
  "kernelspec": {
   "display_name": "Python 3",
   "language": "python",
   "name": "python3"
  },
  "language_info": {
   "codemirror_mode": {
    "name": "ipython",
    "version": 3
   },
   "file_extension": ".py",
   "mimetype": "text/x-python",
   "name": "python",
   "nbconvert_exporter": "python",
   "pygments_lexer": "ipython3",
   "version": "3.6.5"
  }
 },
 "nbformat": 4,
 "nbformat_minor": 2
}
