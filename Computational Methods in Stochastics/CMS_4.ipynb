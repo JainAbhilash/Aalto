{
 "cells": [
  {
   "cell_type": "code",
   "execution_count": 1,
   "metadata": {},
   "outputs": [],
   "source": [
    "import numpy as np"
   ]
  },
  {
   "cell_type": "markdown",
   "metadata": {},
   "source": [
    "### Excersie 1"
   ]
  },
  {
   "cell_type": "code",
   "execution_count": 3,
   "metadata": {},
   "outputs": [],
   "source": [
    "#Lets define the Transition Matrix:\n",
    "Tran_matrix=[\n",
    "    [1,0,0,0,0,0,0,0,0,0],\n",
    "    [0.9,0,0.1,0,0,0,0,0,0,0],\n",
    "    [0,0.8,0,0.2,0,0,0,0,0,0],\n",
    "    [0,0,0.7,0,0.3,0,0,0,0,0],\n",
    "    [0,0,0,0.6,0,0.4,0,0,0,0],\n",
    "    [0,0,0,0,0.5,0,0.5,0,0,0],\n",
    "    [0,0,0,0,0,0.4,0,0.6,0,0],\n",
    "    [0,0,0,0,0,0,0.3,0,0.7,0],\n",
    "    [0,0,0,0,0,0,0,0.2,0,0.8],\n",
    "    [0,0,0,0,0,0,0,0,0.1,0.9],\n",
    "    ]\n",
    "Tran_matrix=np.array(Tran_matrix)"
   ]
  },
  {
   "cell_type": "code",
   "execution_count": 15,
   "metadata": {},
   "outputs": [],
   "source": [
    "#Defining some intermediatory functions, to basically get where he will go next\n",
    "def mass_func(k,state):\n",
    "    return np.sum(state[:k+1])\n",
    "def one_simulate(state):\n",
    "    #using uniform distribution\n",
    "    draw = np.random.uniform(low=0,high=1)\n",
    "    for i in range(10):\n",
    "        if mass_func(i,state)>=draw:\n",
    "            return i"
   ]
  },
  {
   "cell_type": "code",
   "execution_count": 16,
   "metadata": {},
   "outputs": [],
   "source": [
    "# Defining a function to simulate for stipulated time\n",
    "def time_simulation(time,state):\n",
    "    carpets_sold = 0\n",
    "    for i in range(time):\n",
    "        prob_row = Tran_matrix[state]\n",
    "        sampled_state = simulate(prob_row)\n",
    "        # if salesman is in higher state, he has sold a carpet\n",
    "        if state<sampled_state or state == 9:\n",
    "            carpets_sold+=1\n",
    "        #Next state\n",
    "        state = sampled_state\n",
    "    return carpets_sold"
   ]
  },
  {
   "cell_type": "code",
   "execution_count": 17,
   "metadata": {},
   "outputs": [],
   "source": [
    "#Function to get the mean for the the number of Markov Chain Trails\n",
    "def final_simulation(noOfMC,initstate,time):\n",
    "    counter=0\n",
    "    for _ in range(noOfMC):\n",
    "        sold = time_simulation(time,initstate)\n",
    "        counter +=sold\n",
    "    return (counter/noOfMC)"
   ]
  },
  {
   "cell_type": "code",
   "execution_count": 14,
   "metadata": {},
   "outputs": [
    {
     "name": "stdout",
     "output_type": "stream",
     "text": [
      "Carpets sold at 3 : 31.7627\n",
      "Carpets sold at 5 : 171.1611\n"
     ]
    }
   ],
   "source": [
    "#Taking 10000 Markov Chain trails, for 500 time, starting state is 3\n",
    "print(\"Carpets sold at 3 :\",final_simulation(10000,3,500))\n",
    "#Taking 10000 Markov Chain trails, for 500 time, starting state is 5\n",
    "print(\"Carpets sold at 5 :\",final_simulation(10000,5,500))"
   ]
  },
  {
   "cell_type": "code",
   "execution_count": 18,
   "metadata": {},
   "outputs": [
    {
     "name": "stdout",
     "output_type": "stream",
     "text": [
      "Carpets sold at 3 : 34.9128\n",
      "Carpets sold at 5 : 170.0524\n"
     ]
    }
   ],
   "source": [
    "#Taking 5000 Markov Chain trails, for 500 time, starting state is 3\n",
    "print(\"Carpets sold at 3 :\",final_simulation(5000,3,500))\n",
    "#Taking 5000 Markov Chain trails, for 500 time, starting state is 5\n",
    "print(\"Carpets sold at 5 :\",final_simulation(5000,5,500))"
   ]
  },
  {
   "cell_type": "markdown",
   "metadata": {},
   "source": [
    "### Exercise 2"
   ]
  },
  {
   "cell_type": "code",
   "execution_count": 22,
   "metadata": {},
   "outputs": [
    {
     "name": "stdout",
     "output_type": "stream",
     "text": [
      "The Mean Half Life of the radioactive sample is      : 24998.56218086584\n",
      "The Variane of Half Life of the radioactive sample is: 123613.8379596788\n"
     ]
    }
   ],
   "source": [
    "# No of trials\n",
    "trials =10000\n",
    "# Lambda given in the problem\n",
    "Lamda=0.2\n",
    "#Half life\n",
    "hfl=np.int(trials/2)\n",
    "# Array of all the half lives of the trials\n",
    "half_lives = []\n",
    "for i in range(trials):\n",
    "    exp=np.random.exponential(scale=(1/Lamda),size=hfl)\n",
    "    half_lives.append(sum(exp))\n",
    "\n",
    "print(\"The Mean Half Life of the radioactive sample is      : {0}\".format(np.mean(half_lives)))\n",
    "print(\"The Variane of Half Life of the radioactive sample is: {0}\".format(np.var(half_lives)))"
   ]
  }
 ],
 "metadata": {
  "kernelspec": {
   "display_name": "Python 3",
   "language": "python",
   "name": "python3"
  },
  "language_info": {
   "codemirror_mode": {
    "name": "ipython",
    "version": 3
   },
   "file_extension": ".py",
   "mimetype": "text/x-python",
   "name": "python",
   "nbconvert_exporter": "python",
   "pygments_lexer": "ipython3",
   "version": "3.6.6"
  }
 },
 "nbformat": 4,
 "nbformat_minor": 2
}
