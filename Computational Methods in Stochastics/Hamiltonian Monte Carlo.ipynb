{
 "cells": [
  {
   "cell_type": "code",
   "execution_count": 1,
   "metadata": {},
   "outputs": [],
   "source": [
    "import numpy as np\n",
    "import seaborn as sns\n",
    "import matplotlib.pyplot as plt\n",
    "from scipy.stats import expon,gamma\n",
    "from random import random as rand\n",
    "import warnings\n",
    "warnings.filterwarnings(\"ignore\")"
   ]
  },
  {
   "cell_type": "code",
   "execution_count": 2,
   "metadata": {},
   "outputs": [],
   "source": [
    "#Defining the HMC function,Refering the Book!\n",
    "def HMC(U,grad_U,epsilon,L,current_q):\n",
    "    q=current_q\n",
    "    p=np.random.normal(0,1)\n",
    "    current_p=p\n",
    "    \n",
    "    p=p-epsilon*grad_U(q)/2\n",
    "    \n",
    "    for i in range(L):\n",
    "        q=q+epsilon*p\n",
    "        if(q<0):\n",
    "            q=-q\n",
    "            if(p<0):\n",
    "                p=-p\n",
    "        if(i!=L):\n",
    "            p=p-epsilon*grad_U(q)\n",
    "    p=p-epsilon*grad_U(q)/2\n",
    "    p=-p\n",
    "    current_U=U(current_q)\n",
    "    current_K=np.sum(np.power(current_p,2))/2\n",
    "    proposed_U=U(q)\n",
    "    proposed_K=np.sum(np.power(p,2))/2\n",
    "    if(rand()<np.exp(current_U-proposed_U+current_K-proposed_K)):\n",
    "        return q\n",
    "    else:\n",
    "        return current_q"
   ]
  },
  {
   "cell_type": "code",
   "execution_count": 3,
   "metadata": {},
   "outputs": [],
   "source": [
    "#The U function is Exponential\n",
    "def U(q):\n",
    "    lamda=2\n",
    "    return -np.log(expon(scale=1/lamda).pdf(q))\n",
    "#Differential is 2 \n",
    "def grad_U(q):\n",
    "    lamda=2\n",
    "    return lamda"
   ]
  },
  {
   "cell_type": "code",
   "execution_count": 4,
   "metadata": {},
   "outputs": [],
   "source": [
    "#Let the Number of Trials be 10,000\n",
    "trials=10000\n",
    "trial=np.zeros(trials)\n",
    "for i in range(trials):\n",
    "    if(i==1):\n",
    "        trial[i]=HMC(U,grad_U,0.3,25,1)\n",
    "    trial[i]=HMC(U,grad_U,0.3,25,trial[i-1])"
   ]
  },
  {
   "cell_type": "code",
   "execution_count": 5,
   "metadata": {},
   "outputs": [
    {
     "data": {
      "text/plain": [
       "<matplotlib.axes._subplots.AxesSubplot at 0x183af075eb8>"
      ]
     },
     "execution_count": 5,
     "metadata": {},
     "output_type": "execute_result"
    },
    {
     "data": {
      "image/png": "[encoded data removed]",
      "text/plain": [
       "<Figure size 432x288 with 1 Axes>"
      ]
     },
     "metadata": {
      "needs_background": "light"
     },
     "output_type": "display_data"
    }
   ],
   "source": [
    "#Output for Epsilon 0.3, plot looks like a Exponential Distribution!\n",
    "sns.distplot(trial)"
   ]
  }
 ],
 "metadata": {
  "kernelspec": {
   "display_name": "Python 3",
   "language": "python",
   "name": "python3"
  },
  "language_info": {
   "codemirror_mode": {
    "name": "ipython",
    "version": 3
   },
   "file_extension": ".py",
   "mimetype": "text/x-python",
   "name": "python",
   "nbconvert_exporter": "python",
   "pygments_lexer": "ipython3",
   "version": "3.6.6"
  }
 },
 "nbformat": 4,
 "nbformat_minor": 2
}
