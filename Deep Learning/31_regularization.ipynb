{
 "cells": [
  {
   "cell_type": "markdown",
   "metadata": {
    "deletable": false,
    "editable": false,
    "nbgrader": {
     "cell_type": "markdown",
     "checksum": "4be10ae05717c609369c4b7a5ac8dc3d",
     "grade": false,
     "grade_id": "cell-51463f10ee76cd64",
     "locked": true,
     "schema_version": 3,
     "solution": false
    }
   },
   "source": [
    "# Exercise 3. Regularization\n",
    "\n",
    "In this exercise, we will try a few methods to prevent overfitting of an MLP network to training data.\n",
    "\n",
    "## Learning goals:\n",
    "* Understand various methods to prevent overfitting of neural networks.\n",
    "* Experience in using regularization methods in pytorch."
   ]
  },
  {
   "cell_type": "code",
   "execution_count": 48,
   "metadata": {},
   "outputs": [],
   "source": [
    "skip_training = True  # Set this flag to True before validation and submission"
   ]
  },
  {
   "cell_type": "code",
   "execution_count": 2,
   "metadata": {
    "deletable": false,
    "editable": false,
    "nbgrader": {
     "cell_type": "code",
     "checksum": "6e7b6f0d864da3ec1bf6ce27ff5f05f6",
     "grade": true,
     "grade_id": "skip_training",
     "locked": true,
     "points": 0,
     "schema_version": 3,
     "solution": false
    }
   },
   "outputs": [],
   "source": [
    "# During evaluation, this cell sets skip_training to True\n",
    "# skip_training = True"
   ]
  },
  {
   "cell_type": "code",
   "execution_count": 3,
   "metadata": {
    "deletable": false,
    "editable": false,
    "nbgrader": {
     "cell_type": "code",
     "checksum": "d66b710ca83140b8993fc964349be608",
     "grade": false,
     "grade_id": "cell-8acec5e99baf1c33",
     "locked": true,
     "schema_version": 3,
     "solution": false
    }
   },
   "outputs": [],
   "source": [
    "import numpy as np\n",
    "from sklearn.model_selection import train_test_split\n",
    "import matplotlib.pyplot as plt\n",
    "%matplotlib inline\n",
    "\n",
    "import torch\n",
    "from torch.optim.lr_scheduler import StepLR"
   ]
  },
  {
   "cell_type": "code",
   "execution_count": 4,
   "metadata": {},
   "outputs": [],
   "source": [
    "# Select device which you are going to use for training\n",
    "device = torch.device(\"cpu\")"
   ]
  },
  {
   "cell_type": "code",
   "execution_count": 5,
   "metadata": {},
   "outputs": [],
   "source": [
    "if skip_training:\n",
    "    # The models are always evaluated on CPU\n",
    "    device = torch.device(\"cpu\")"
   ]
  },
  {
   "cell_type": "markdown",
   "metadata": {
    "deletable": false,
    "editable": false,
    "nbgrader": {
     "cell_type": "markdown",
     "checksum": "e6014000b3e03dbc1e2368b986f570d7",
     "grade": false,
     "grade_id": "cell-b4a55be0cb567e24",
     "locked": true,
     "schema_version": 3,
     "solution": false
    }
   },
   "source": [
    "## Regression problem\n",
    "We will look at a regression problem where the task is to estimate a function of one variable\n",
    "$$y = f(x)$$\n",
    "using a set of training examples $(x_1, y_1), \\ldots, (x_n, y_n)$."
   ]
  },
  {
   "cell_type": "markdown",
   "metadata": {
    "deletable": false,
    "editable": false,
    "nbgrader": {
     "cell_type": "markdown",
     "checksum": "baeb8a3430abfe96373c944354ee3f75",
     "grade": false,
     "grade_id": "cell-602ebca68e883d0c",
     "locked": true,
     "schema_version": 3,
     "solution": false
    }
   },
   "source": [
    "Let us first generate training examples $y_i=\\sin(x_i) + n_i$ with $x_i$ drawn from the uniform distribution in $[-0.5, 0.5]$ and noise $n_i$ drawn from the Gaussian distribution."
   ]
  },
  {
   "cell_type": "code",
   "execution_count": 6,
   "metadata": {
    "deletable": false,
    "editable": false,
    "nbgrader": {
     "cell_type": "code",
     "checksum": "01f0cddccc91d6608eaa2101b6d257a5",
     "grade": false,
     "grade_id": "cell-b0d3a2083dc9a6af",
     "locked": true,
     "schema_version": 3,
     "solution": false
    }
   },
   "outputs": [],
   "source": [
    "np.random.seed(0)\n",
    "n = 80\n",
    "x = np.random.rand(n, 1)-0.5\n",
    "\n",
    "def fun(x):\n",
    "    y = np.cos(2* np.pi * x)\n",
    "    y += 0.3 * np.random.randn(*x.shape)\n",
    "    return y\n",
    "\n",
    "y = fun(x)"
   ]
  },
  {
   "cell_type": "markdown",
   "metadata": {
    "deletable": false,
    "editable": false,
    "nbgrader": {
     "cell_type": "markdown",
     "checksum": "083ad76a86a911e9119a37c5e664a35d",
     "grade": false,
     "grade_id": "cell-4ffc8ddcb1221702",
     "locked": true,
     "schema_version": 3,
     "solution": false
    }
   },
   "source": [
    "Let us split the data into training, validation and test sets and plot the training and validation sets. And let us plot the data."
   ]
  },
  {
   "cell_type": "code",
   "execution_count": 7,
   "metadata": {
    "deletable": false,
    "editable": false,
    "nbgrader": {
     "cell_type": "code",
     "checksum": "737dab253ac1228056cf901e3b0ea6ee",
     "grade": false,
     "grade_id": "cell-293526f20c9d5aa0",
     "locked": true,
     "schema_version": 3,
     "solution": false
    }
   },
   "outputs": [
    {
     "data": {
      "text/plain": [
       "[<matplotlib.lines.Line2D at 0x7faf01333a90>]"
      ]
     },
     "execution_count": 7,
     "metadata": {},
     "output_type": "execute_result"
    },
    {
     "data": {
      "image/png": "[encoded data removed]",
      "text/plain": [
       "<Figure size 432x288 with 1 Axes>"
      ]
     },
     "metadata": {
      "needs_background": "light"
     },
     "output_type": "display_data"
    }
   ],
   "source": [
    "# Let us split the data into training, validation and test sets and plot the training and validation sets\n",
    "x_train, x_test, y_train, y_test = train_test_split(x, y, test_size=0.2, random_state=1, shuffle=True)\n",
    "x_train, x_val, y_train, y_val = train_test_split(x_train, y_train, test_size=0.2, random_state=1, shuffle=True)\n",
    "\n",
    "#  And let us plot the data\n",
    "fix, ax = plt.subplots(1)\n",
    "ax.plot(x_train, y_train, 'b.')\n",
    "ax.plot(x_val, y_val, 'r.')"
   ]
  },
  {
   "cell_type": "markdown",
   "metadata": {
    "deletable": false,
    "editable": false,
    "nbgrader": {
     "cell_type": "markdown",
     "checksum": "2a85c70f5144240f62108369d9e9111c",
     "grade": false,
     "grade_id": "cell-14cf094e013cff8b",
     "locked": true,
     "schema_version": 3,
     "solution": false
    }
   },
   "source": [
    "## Define a multi-layer perceptron (MLP) network with two hidden layers\n",
    "\n",
    "In the code below, we define a neural network architecture with:\n",
    "* input dimension 1\n",
    "* one hidden layer with 100 units with tanh nonlinearity\n",
    "* one hidden layer with 100 units with tanh nonlinearity\n",
    "* linear output layer with output dimension 1"
   ]
  },
  {
   "cell_type": "code",
   "execution_count": 8,
   "metadata": {
    "deletable": false,
    "editable": false,
    "nbgrader": {
     "cell_type": "code",
     "checksum": "6b9256efb17e91067cf0d77b6f591802",
     "grade": false,
     "grade_id": "cell-5e9ca1bfff94cd3a",
     "locked": true,
     "schema_version": 3,
     "solution": false
    }
   },
   "outputs": [],
   "source": [
    "import torch.nn as nn\n",
    "import torch.nn.functional as F\n",
    "\n",
    "class MLP(nn.Module):\n",
    "    def __init__(self):\n",
    "        super(MLP, self).__init__()\n",
    "        self.net = nn.Sequential(\n",
    "            nn.Linear(1, 100),\n",
    "            nn.Tanh(),\n",
    "            nn.Linear(100, 100),\n",
    "            nn.Tanh(),\n",
    "            nn.Linear(100, 1))\n",
    "\n",
    "    def forward(self, x):\n",
    "        return self.net(x)"
   ]
  },
  {
   "cell_type": "code",
   "execution_count": 9,
   "metadata": {
    "deletable": false,
    "editable": false,
    "nbgrader": {
     "cell_type": "code",
     "checksum": "ef7c41288ab40d36e5726a6ff2e14f9a",
     "grade": false,
     "grade_id": "cell-915d85fc89b9800e",
     "locked": true,
     "schema_version": 3,
     "solution": false
    }
   },
   "outputs": [
    {
     "data": {
      "text/plain": [
       "MLP(\n",
       "  (net): Sequential(\n",
       "    (0): Linear(in_features=1, out_features=100, bias=True)\n",
       "    (1): Tanh()\n",
       "    (2): Linear(in_features=100, out_features=100, bias=True)\n",
       "    (3): Tanh()\n",
       "    (4): Linear(in_features=100, out_features=1, bias=True)\n",
       "  )\n",
       ")"
      ]
     },
     "execution_count": 9,
     "metadata": {},
     "output_type": "execute_result"
    }
   ],
   "source": [
    "# Let us create an MLP network\n",
    "mlp = MLP()\n",
    "mlp.to(device)"
   ]
  },
  {
   "cell_type": "code",
   "execution_count": 10,
   "metadata": {
    "deletable": false,
    "editable": false,
    "nbgrader": {
     "cell_type": "code",
     "checksum": "68c7509e3c44e24aa360515c7ea974b5",
     "grade": false,
     "grade_id": "cell-7f577b3aa66712c6",
     "locked": true,
     "schema_version": 3,
     "solution": false
    }
   },
   "outputs": [],
   "source": [
    "# This visualizes the function implemented by an MLP\n",
    "def plot_fit(mlp, x_train, y_train):\n",
    "    fig, ax = plt.subplots(1)\n",
    "    ax.plot(x_train, y_train, '.')\n",
    "    x_np = np.linspace(-0.5, 0.5, 100).reshape((-1, 1))\n",
    "    x = torch.tensor(x_np, device=device, dtype=torch.float)\n",
    "    pred = mlp.forward(x).cpu().data.numpy()\n",
    "    ax.plot(x_np, pred)"
   ]
  },
  {
   "cell_type": "code",
   "execution_count": 11,
   "metadata": {
    "deletable": false,
    "editable": false,
    "nbgrader": {
     "cell_type": "code",
     "checksum": "57a9ed4b12a7abd43ccaa9f5bd5aed24",
     "grade": false,
     "grade_id": "cell-a8e07d60f53a59e0",
     "locked": true,
     "schema_version": 3,
     "solution": false
    }
   },
   "outputs": [
    {
     "data": {
      "image/png": "[encoded data removed]",
      "text/plain": [
       "<Figure size 432x288 with 1 Axes>"
      ]
     },
     "metadata": {
      "needs_background": "light"
     },
     "output_type": "display_data"
    }
   ],
   "source": [
    "# Plot the function implemented by the MLP\n",
    "plot_fit(mlp, x_train, y_train)"
   ]
  },
  {
   "cell_type": "code",
   "execution_count": 12,
   "metadata": {
    "deletable": false,
    "editable": false,
    "nbgrader": {
     "cell_type": "code",
     "checksum": "6a455196f6f5c02e710e6f91d7c9fd36",
     "grade": false,
     "grade_id": "cell-54089360cf22ff83",
     "locked": true,
     "schema_version": 3,
     "solution": false
    }
   },
   "outputs": [],
   "source": [
    "# This is the function to compute the loss:\n",
    "def compute_loss(mlp, x, y):\n",
    "    mlp.eval()\n",
    "    with torch.no_grad():\n",
    "        x = torch.tensor(x, device=device, dtype=torch.float)\n",
    "        y = torch.tensor(y, device=device, dtype=torch.float)\n",
    "        outputs = mlp.forward(x)\n",
    "        loss = F.mse_loss(outputs, y)\n",
    "        return np.asscalar(loss.cpu().data.numpy())\n",
    "\n",
    "# This is the function to print the progress during training\n",
    "def print_progress(epoch, train_error, val_error):\n",
    "    print('Train Epoch {}: Train error {:.2f} Validation error {:.2f}'.format(\n",
    "        epoch, train_error, val_error))"
   ]
  },
  {
   "cell_type": "markdown",
   "metadata": {
    "deletable": false,
    "editable": false,
    "nbgrader": {
     "cell_type": "markdown",
     "checksum": "0556343b1cc1fb1219188a2ccfa636da",
     "grade": false,
     "grade_id": "cell-38e864109561c7c3",
     "locked": true,
     "schema_version": 3,
     "solution": false
    }
   },
   "source": [
    "## Train the MLP network without regularization\n",
    "Training is done by minimizing the mean-squared error computed on the training data:\n",
    "$$c=\\sum_{i=1}^n || f(x_i) - y_i ||^2.$$\n",
    "\n",
    "Here, we train the network:\n",
    "* using all the data for computing the gradient (batch mode)\n",
    "* using `n_epochs` epochs (which is equal to the number of parameter updates in the batch mode)."
   ]
  },
  {
   "cell_type": "code",
   "execution_count": 13,
   "metadata": {
    "deletable": false,
    "editable": false,
    "nbgrader": {
     "cell_type": "code",
     "checksum": "1d50767250dbcecf70c7ed3aa91acd6d",
     "grade": false,
     "grade_id": "cell-f9a61df7e02fe5f0",
     "locked": true,
     "schema_version": 3,
     "solution": false
    }
   },
   "outputs": [
    {
     "name": "stdout",
     "output_type": "stream",
     "text": [
      "Train Epoch 0: Train error 0.66 Validation error 0.62\n",
      "Train Epoch 500: Train error 0.07 Validation error 0.15\n",
      "Train Epoch 1000: Train error 0.07 Validation error 0.15\n",
      "Train Epoch 1500: Train error 0.07 Validation error 0.16\n",
      "Train Epoch 2000: Train error 0.06 Validation error 0.16\n",
      "Train Epoch 2500: Train error 0.06 Validation error 0.18\n",
      "Train Epoch 3000: Train error 0.05 Validation error 0.20\n",
      "Train Epoch 3500: Train error 0.04 Validation error 0.24\n",
      "Train Epoch 4000: Train error 0.03 Validation error 0.30\n",
      "Train Epoch 4500: Train error 0.03 Validation error 0.32\n",
      "Train Epoch 5000: Train error 0.03 Validation error 0.33\n",
      "Train Epoch 5500: Train error 0.02 Validation error 0.35\n",
      "Train Epoch 6000: Train error 0.01 Validation error 0.38\n",
      "Train Epoch 6500: Train error 0.01 Validation error 0.39\n",
      "Train Epoch 7000: Train error 0.01 Validation error 0.40\n",
      "Train Epoch 7500: Train error 0.01 Validation error 0.40\n",
      "Train Epoch 8000: Train error 0.01 Validation error 0.41\n",
      "Train Epoch 8500: Train error 0.01 Validation error 0.41\n",
      "Train Epoch 9000: Train error 0.01 Validation error 0.40\n",
      "Train Epoch 9500: Train error 0.01 Validation error 0.39\n"
     ]
    }
   ],
   "source": [
    "mlp = MLP()\n",
    "mlp.to(device)\n",
    "optimizer = torch.optim.Adam(mlp.parameters(), lr=0.001)\n",
    "n_epochs = 10000\n",
    "train_errors = []  # Keep track of the training data\n",
    "val_errors = []  # Keep track of the validation data\n",
    "for epoch in range(n_epochs):\n",
    "    x = torch.tensor(x_train, device=device, dtype=torch.float)\n",
    "    y = torch.tensor(y_train, device=device, dtype=torch.float)\n",
    "\n",
    "    optimizer.zero_grad()\n",
    "    outputs = mlp.forward(x)\n",
    "    loss = F.mse_loss(outputs, y)\n",
    "    loss.backward()\n",
    "    optimizer.step()\n",
    "\n",
    "    if (epoch % 500) == 0:\n",
    "        train_errors.append(compute_loss(mlp, x_train, y_train))\n",
    "        val_errors.append(compute_loss(mlp, x_val, y_val))\n",
    "        print_progress(epoch, train_errors[-1], val_errors[-1])"
   ]
  },
  {
   "cell_type": "code",
   "execution_count": 14,
   "metadata": {
    "deletable": false,
    "editable": false,
    "nbgrader": {
     "cell_type": "code",
     "checksum": "f6caeaedf6af53ff24e63712da170daf",
     "grade": false,
     "grade_id": "cell-2fcb3919234f3be2",
     "locked": true,
     "schema_version": 3,
     "solution": false
    }
   },
   "outputs": [
    {
     "data": {
      "image/png": "[encoded data removed]",
      "text/plain": [
       "<Figure size 432x288 with 1 Axes>"
      ]
     },
     "metadata": {
      "needs_background": "light"
     },
     "output_type": "display_data"
    }
   ],
   "source": [
    "# Plot the final fit\n",
    "plot_fit(mlp, x_train, y_train)"
   ]
  },
  {
   "cell_type": "code",
   "execution_count": 15,
   "metadata": {
    "deletable": false,
    "editable": false,
    "nbgrader": {
     "cell_type": "code",
     "checksum": "8bcb93a3227b9fbc0dd37a859bf8499f",
     "grade": false,
     "grade_id": "cell-41054799892075ce",
     "locked": true,
     "schema_version": 3,
     "solution": false,
     "task": false
    }
   },
   "outputs": [
    {
     "name": "stdout",
     "output_type": "stream",
     "text": [
      "Test loss without regularization: 0.23199\n"
     ]
    }
   ],
   "source": [
    "# Let's look at the test loss\n",
    "test_loss_no_regularization = compute_loss(mlp, x_test, y_test)\n",
    "print(\"Test loss without regularization: %.5f\" % test_loss_no_regularization)"
   ]
  },
  {
   "cell_type": "markdown",
   "metadata": {
    "deletable": false,
    "editable": false,
    "nbgrader": {
     "cell_type": "markdown",
     "checksum": "3a108841c5fbfbb3d4eced5606a0ff05",
     "grade": false,
     "grade_id": "cell-3dbf989a13b25a8a",
     "locked": true,
     "schema_version": 3,
     "solution": false
    }
   },
   "source": [
    "As you can see, the network overfits to the training data."
   ]
  },
  {
   "cell_type": "markdown",
   "metadata": {
    "deletable": false,
    "editable": false,
    "nbgrader": {
     "cell_type": "markdown",
     "checksum": "7cba531b55f1bd3da23f13d0e8cdc8e4",
     "grade": false,
     "grade_id": "cell-b6cf5359944d980f",
     "locked": true,
     "schema_version": 3,
     "solution": false
    }
   },
   "source": [
    "# Early stopping"
   ]
  },
  {
   "cell_type": "markdown",
   "metadata": {
    "deletable": false,
    "editable": false,
    "nbgrader": {
     "cell_type": "markdown",
     "checksum": "d5749b49c4a5286fe0bf169751a6f23d",
     "grade": false,
     "grade_id": "cell-7bcbc15d4c5d3fa3",
     "locked": true,
     "schema_version": 3,
     "solution": false
    }
   },
   "source": [
    "One of the simplest ways to avoid overfitting is to stop training when the validation error starts to grow."
   ]
  },
  {
   "cell_type": "code",
   "execution_count": 16,
   "metadata": {
    "deletable": false,
    "editable": false,
    "nbgrader": {
     "cell_type": "code",
     "checksum": "0e7e2b8bc3ad6165a45c1e0b6255d1ff",
     "grade": false,
     "grade_id": "cell-f875cdf8b4e10b0f",
     "locked": true,
     "schema_version": 3,
     "solution": false
    }
   },
   "outputs": [
    {
     "data": {
      "text/plain": [
       "[<matplotlib.lines.Line2D at 0x7faef27ca860>]"
      ]
     },
     "execution_count": 16,
     "metadata": {},
     "output_type": "execute_result"
    },
    {
     "data": {
      "image/png": "[encoded data removed]",
      "text/plain": [
       "<Figure size 432x288 with 1 Axes>"
      ]
     },
     "metadata": {
      "needs_background": "light"
     },
     "output_type": "display_data"
    }
   ],
   "source": [
    "# Let us look at the learning curves: the evolution of training and validation errors during training\n",
    "fig, ax = plt.subplots(1)\n",
    "ax.loglog(train_errors)\n",
    "ax.loglog(val_errors)"
   ]
  },
  {
   "cell_type": "markdown",
   "metadata": {
    "deletable": false,
    "editable": false,
    "nbgrader": {
     "cell_type": "markdown",
     "checksum": "5077030d2432e8c70c2725a6e72934fb",
     "grade": false,
     "grade_id": "cell-3d5bbf165b21b8aa",
     "locked": true,
     "schema_version": 3,
     "solution": false
    }
   },
   "source": [
    "In the code below, define a stopping creterion in function `stop_criterion`. Training should be stopped (function returns  `True`) when the validation error is larger than the best validation error obtained so far (with given `tolearance`) for `patience` epochs."
   ]
  },
  {
   "cell_type": "code",
   "execution_count": 17,
   "metadata": {
    "deletable": false,
    "nbgrader": {
     "cell_type": "code",
     "checksum": "fa762cb081a2e74bfe8c4f25ca9554f1",
     "grade": false,
     "grade_id": "cell-a16c613b86b9876c",
     "locked": false,
     "schema_version": 3,
     "solution": true
    }
   },
   "outputs": [],
   "source": [
    "class EarlyStopping:\n",
    "    def __init__(self, tolerance, patience):\n",
    "        \"\"\"\n",
    "        Args:\n",
    "          patience (int):    Maximum number of epochs with unsuccessful updates.\n",
    "          tolerance (float): We assume that the update is unsuccessful if the validation error is larger\n",
    "                              than the best validation error so far plus this tolerance.\n",
    "        \"\"\"\n",
    "        self.tolerance = tolerance\n",
    "        self.patience = patience\n",
    "    \n",
    "    def stop_criterion(self, val_errors):\n",
    "        \"\"\"\n",
    "        Args:\n",
    "          val_errors (iterable): Validation errors after every update during training.\n",
    "        \n",
    "        Returns: True if training should be stopped: when the validation error is larger than the best\n",
    "                  validation error obtained so far (with given tolearance) for patience epochs.\n",
    "                 Otherwise returns False.\n",
    "        \"\"\"\n",
    "        # YOUR CODE HERE\n",
    "        best_error = float('inf')\n",
    "        counter = 0\n",
    "        for val_error in val_errors:\n",
    "            if val_error- best_error > self.tolerance:\n",
    "                counter += 1\n",
    "            else:\n",
    "                counter =0\n",
    "            if counter == self.patience : \n",
    "                return True\n",
    "            best_error = min (best_error,val_error)\n",
    "        return False\n",
    "        #raise NotImplementedError()"
   ]
  },
  {
   "cell_type": "code",
   "execution_count": 18,
   "metadata": {
    "deletable": false,
    "editable": false,
    "nbgrader": {
     "cell_type": "code",
     "checksum": "ff64337d55f55538f4039d96f9fa6d59",
     "grade": false,
     "grade_id": "cell-495b35657953155e",
     "locked": true,
     "schema_version": 3,
     "solution": false,
     "task": false
    }
   },
   "outputs": [],
   "source": [
    "# Let's test your implementation\n",
    "early_stop = EarlyStopping(tolerance=0.5, patience=3)\n",
    "assert not early_stop.stop_criterion([1, 1, 1, 1]), \"Should not stop in this situation\""
   ]
  },
  {
   "cell_type": "code",
   "execution_count": 19,
   "metadata": {},
   "outputs": [],
   "source": [
    "# You can use this cell to test other cases"
   ]
  },
  {
   "cell_type": "code",
   "execution_count": 20,
   "metadata": {
    "deletable": false,
    "editable": false,
    "nbgrader": {
     "cell_type": "code",
     "checksum": "b556f5a06cc861368dc586ea77de7ab7",
     "grade": true,
     "grade_id": "early_stopping",
     "locked": true,
     "points": 1,
     "schema_version": 3,
     "solution": false
    }
   },
   "outputs": [],
   "source": [
    "# This is a cell used for grading"
   ]
  },
  {
   "cell_type": "code",
   "execution_count": 21,
   "metadata": {
    "deletable": false,
    "editable": false,
    "nbgrader": {
     "cell_type": "code",
     "checksum": "60b8cb9a782190c0d26f48db2fb8005c",
     "grade": false,
     "grade_id": "cell-5e0eae47920604c3",
     "locked": true,
     "schema_version": 3,
     "solution": false
    }
   },
   "outputs": [
    {
     "name": "stdout",
     "output_type": "stream",
     "text": [
      "Train Epoch 0: Train error 0.67 Validation error 0.71\n",
      "Train Epoch 10: Train error 0.65 Validation error 0.60\n",
      "Train Epoch 20: Train error 0.62 Validation error 0.61\n",
      "Train Epoch 30: Train error 0.60 Validation error 0.58\n",
      "Train Epoch 40: Train error 0.55 Validation error 0.53\n",
      "Train Epoch 50: Train error 0.49 Validation error 0.46\n",
      "Train Epoch 60: Train error 0.39 Validation error 0.36\n",
      "Train Epoch 70: Train error 0.26 Validation error 0.24\n",
      "Train Epoch 80: Train error 0.15 Validation error 0.14\n",
      "Train Epoch 90: Train error 0.09 Validation error 0.12\n",
      "Train Epoch 100: Train error 0.08 Validation error 0.14\n",
      "Train Epoch 110: Train error 0.08 Validation error 0.15\n",
      "Train Epoch 120: Train error 0.08 Validation error 0.14\n",
      "Train Epoch 130: Train error 0.08 Validation error 0.14\n",
      "Train Epoch 140: Train error 0.08 Validation error 0.14\n",
      "Train Epoch 150: Train error 0.08 Validation error 0.14\n",
      "Train Epoch 160: Train error 0.07 Validation error 0.14\n",
      "Train Epoch 170: Train error 0.07 Validation error 0.14\n",
      "Train Epoch 180: Train error 0.07 Validation error 0.14\n",
      "Train Epoch 190: Train error 0.07 Validation error 0.14\n",
      "Train Epoch 200: Train error 0.07 Validation error 0.14\n",
      "Train Epoch 210: Train error 0.07 Validation error 0.14\n",
      "Train Epoch 220: Train error 0.07 Validation error 0.14\n",
      "Train Epoch 230: Train error 0.07 Validation error 0.14\n",
      "Train Epoch 240: Train error 0.07 Validation error 0.14\n",
      "Train Epoch 250: Train error 0.07 Validation error 0.14\n",
      "Train Epoch 260: Train error 0.07 Validation error 0.15\n",
      "Train Epoch 270: Train error 0.07 Validation error 0.15\n",
      "Train Epoch 280: Train error 0.07 Validation error 0.14\n",
      "Train Epoch 290: Train error 0.07 Validation error 0.14\n",
      "Train Epoch 300: Train error 0.07 Validation error 0.15\n",
      "Train Epoch 310: Train error 0.07 Validation error 0.15\n",
      "Train Epoch 320: Train error 0.07 Validation error 0.15\n",
      "Train Epoch 330: Train error 0.07 Validation error 0.15\n",
      "0.1467173993587494\n",
      "Stop after 333 epochs\n"
     ]
    }
   ],
   "source": [
    "# Let's train the network with early stopping\n",
    "mlp = MLP()\n",
    "mlp.to(device)\n",
    "optimizer = torch.optim.Adam(mlp.parameters(), lr=0.001)\n",
    "n_epochs = 10000\n",
    "train_errors = []  # Keep track of the training error\n",
    "val_errors = []  # Keep track of the validation error\n",
    "early_stop = EarlyStopping(tolerance=0.03, patience=20)\n",
    "for epoch in range(n_epochs):\n",
    "    x = torch.tensor(x_train, device=device, dtype=torch.float)\n",
    "    y = torch.tensor(y_train, device=device, dtype=torch.float)\n",
    "    optimizer.zero_grad()\n",
    "    outputs = mlp.forward(x)\n",
    "    loss = F.mse_loss(outputs, y)\n",
    "    loss.backward()\n",
    "    optimizer.step()\n",
    "\n",
    "    train_errors.append(compute_loss(mlp, x_train, y_train))\n",
    "    val_errors.append(compute_loss(mlp, x_val, y_val))\n",
    "\n",
    "    if early_stop.stop_criterion(val_errors):\n",
    "        print(val_errors[epoch])\n",
    "        print('Stop after %d epochs' % epoch)\n",
    "        break\n",
    "        \n",
    "    if (epoch % 10) == 0:\n",
    "        print_progress(epoch, train_errors[epoch], val_errors[epoch])"
   ]
  },
  {
   "cell_type": "code",
   "execution_count": 22,
   "metadata": {
    "deletable": false,
    "editable": false,
    "nbgrader": {
     "cell_type": "code",
     "checksum": "f4e01eefc76b773a05586fbae174a43c",
     "grade": false,
     "grade_id": "cell-812ee02395587c1d",
     "locked": true,
     "schema_version": 3,
     "solution": false
    }
   },
   "outputs": [
    {
     "data": {
      "text/plain": [
       "[<matplotlib.lines.Line2D at 0x7faef26f5be0>]"
      ]
     },
     "execution_count": 22,
     "metadata": {},
     "output_type": "execute_result"
    },
    {
     "data": {
      "image/png": "[encoded data removed]",
      "text/plain": [
       "<Figure size 432x288 with 1 Axes>"
      ]
     },
     "metadata": {
      "needs_background": "light"
     },
     "output_type": "display_data"
    }
   ],
   "source": [
    "# Plot the learning curves: the evolution of training and validation errors during training\n",
    "fig, ax = plt.subplots(1)\n",
    "ax.loglog(train_errors)\n",
    "ax.loglog(val_errors)"
   ]
  },
  {
   "cell_type": "code",
   "execution_count": 23,
   "metadata": {
    "deletable": false,
    "editable": false,
    "nbgrader": {
     "cell_type": "code",
     "checksum": "dc478da07030ff2766285548305c865b",
     "grade": false,
     "grade_id": "cell-a4cc056169219a4f",
     "locked": true,
     "schema_version": 3,
     "solution": false
    }
   },
   "outputs": [
    {
     "data": {
      "image/png": "[encoded data removed]",
      "text/plain": [
       "<Figure size 432x288 with 1 Axes>"
      ]
     },
     "metadata": {
      "needs_background": "light"
     },
     "output_type": "display_data"
    }
   ],
   "source": [
    "# Plot the final fit\n",
    "plot_fit(mlp, x_train, y_train)"
   ]
  },
  {
   "cell_type": "code",
   "execution_count": 24,
   "metadata": {
    "deletable": false,
    "editable": false,
    "nbgrader": {
     "cell_type": "code",
     "checksum": "b885f05c345a9442eb1a9742c2b489dc",
     "grade": true,
     "grade_id": "accuracy_early_stop",
     "locked": true,
     "points": 0,
     "schema_version": 3,
     "solution": false
    }
   },
   "outputs": [
    {
     "name": "stdout",
     "output_type": "stream",
     "text": [
      "Test loss with early stopping: 0.09190\n"
     ]
    }
   ],
   "source": [
    "# Let's look at the test loss\n",
    "test_loss_early_stopping = compute_loss(mlp, x_test, y_test)\n",
    "print(\"Test loss with early stopping: %.5f\" % test_loss_early_stopping)"
   ]
  },
  {
   "cell_type": "markdown",
   "metadata": {
    "deletable": false,
    "editable": false,
    "nbgrader": {
     "cell_type": "markdown",
     "checksum": "162922124939cd3f66230649491afa8d",
     "grade": false,
     "grade_id": "cell-898f073dfa615c29",
     "locked": true,
     "schema_version": 3,
     "solution": false
    }
   },
   "source": [
    "# Weight-decay regularization\n",
    "\n",
    "Let us train the same network with L2 penalties on the weights. In PyTorch, one can add L2 penalty terms for all the parameters by providing `weight_decay` argument for most types of optimizers."
   ]
  },
  {
   "cell_type": "code",
   "execution_count": 25,
   "metadata": {
    "deletable": false,
    "nbgrader": {
     "cell_type": "code",
     "checksum": "d189edc484f08b8d408c2e2182acc99a",
     "grade": false,
     "grade_id": "cell-255cbcade10c4b39",
     "locked": false,
     "schema_version": 3,
     "solution": true
    }
   },
   "outputs": [
    {
     "name": "stdout",
     "output_type": "stream",
     "text": [
      "Train Epoch 0: Train error 3.93 Validation error 3.67\n",
      "Train Epoch 100: Train error 0.07 Validation error 0.10\n",
      "Train Epoch 200: Train error 0.07 Validation error 0.10\n",
      "Train Epoch 300: Train error 0.07 Validation error 0.10\n",
      "Train Epoch 400: Train error 0.07 Validation error 0.10\n",
      "Train Epoch 500: Train error 0.07 Validation error 0.10\n",
      "Train Epoch 600: Train error 0.07 Validation error 0.10\n",
      "Train Epoch 700: Train error 0.07 Validation error 0.10\n",
      "Train Epoch 800: Train error 0.07 Validation error 0.10\n",
      "Train Epoch 900: Train error 0.07 Validation error 0.10\n",
      "Train Epoch 1000: Train error 0.07 Validation error 0.10\n",
      "Train Epoch 1100: Train error 0.07 Validation error 0.10\n",
      "Train Epoch 1200: Train error 0.07 Validation error 0.09\n",
      "Train Epoch 1300: Train error 0.07 Validation error 0.10\n",
      "Train Epoch 1400: Train error 0.07 Validation error 0.10\n",
      "Train Epoch 1500: Train error 0.07 Validation error 0.10\n",
      "Train Epoch 1600: Train error 0.07 Validation error 0.10\n",
      "Train Epoch 1700: Train error 0.07 Validation error 0.10\n",
      "Train Epoch 1800: Train error 0.07 Validation error 0.10\n",
      "Train Epoch 1900: Train error 0.07 Validation error 0.10\n",
      "Train Epoch 2000: Train error 0.07 Validation error 0.10\n",
      "Train Epoch 2100: Train error 0.07 Validation error 0.10\n",
      "Train Epoch 2200: Train error 0.07 Validation error 0.10\n",
      "Train Epoch 2300: Train error 0.07 Validation error 0.10\n",
      "Train Epoch 2400: Train error 0.07 Validation error 0.10\n",
      "Train Epoch 2500: Train error 0.07 Validation error 0.10\n",
      "Train Epoch 2600: Train error 0.07 Validation error 0.09\n",
      "Train Epoch 2700: Train error 0.07 Validation error 0.10\n",
      "Train Epoch 2800: Train error 0.07 Validation error 0.10\n",
      "Train Epoch 2900: Train error 0.07 Validation error 0.10\n",
      "Train Epoch 3000: Train error 0.07 Validation error 0.11\n",
      "Train Epoch 3100: Train error 0.07 Validation error 0.10\n",
      "Train Epoch 3200: Train error 0.07 Validation error 0.10\n",
      "Train Epoch 3300: Train error 0.07 Validation error 0.10\n",
      "Train Epoch 3400: Train error 0.07 Validation error 0.10\n",
      "Train Epoch 3500: Train error 0.07 Validation error 0.10\n",
      "Train Epoch 3600: Train error 0.07 Validation error 0.10\n",
      "Train Epoch 3700: Train error 0.07 Validation error 0.10\n",
      "Train Epoch 3800: Train error 0.07 Validation error 0.10\n",
      "Train Epoch 3900: Train error 0.07 Validation error 0.10\n"
     ]
    }
   ],
   "source": [
    "# Train an MLP with L2 regularization\n",
    "mlp = MLP()\n",
    "mlp.to(device)\n",
    "del optimizer\n",
    "\n",
    "# Create an Adam optimizer with learning rate 0.01 and weight decay parameter 0.001\n",
    "# optimizer = ...\n",
    "# YOUR CODE HERE\n",
    "optimizer=torch.optim.Adam(mlp.parameters(), lr=0.01,weight_decay=0.001)\n",
    "#raise NotImplementedError()\n",
    "n_epochs = 4000\n",
    "train_errors = []\n",
    "val_errors = []\n",
    "for epoch in range(n_epochs):\n",
    "    x = torch.tensor(x_train, device=device, dtype=torch.float)\n",
    "    y = torch.tensor(y_train, device=device, dtype=torch.float)\n",
    "\n",
    "    optimizer.zero_grad()\n",
    "    outputs = mlp.forward(x)\n",
    "    loss = F.mse_loss(outputs, y)\n",
    "    loss.backward()\n",
    "    optimizer.step()\n",
    "\n",
    "    if (epoch % 100) == 0:\n",
    "        train_errors.append(compute_loss(mlp, x_train, y_train))\n",
    "        val_errors.append(compute_loss(mlp, x_test, y_test))\n",
    "        print_progress(epoch, train_errors[-1], val_errors[-1])"
   ]
  },
  {
   "cell_type": "code",
   "execution_count": 26,
   "metadata": {
    "deletable": false,
    "editable": false,
    "nbgrader": {
     "cell_type": "code",
     "checksum": "33cbe9487b7a66672d71956688af95ac",
     "grade": true,
     "grade_id": "weight_decay",
     "locked": true,
     "points": 1,
     "schema_version": 3,
     "solution": false
    }
   },
   "outputs": [
    {
     "name": "stdout",
     "output_type": "stream",
     "text": [
      "Adam (\n",
      "Parameter Group 0\n",
      "    amsgrad: False\n",
      "    betas: (0.9, 0.999)\n",
      "    eps: 1e-08\n",
      "    lr: 0.01\n",
      "    weight_decay: 0.001\n",
      ")\n"
     ]
    }
   ],
   "source": [
    "print(optimizer)"
   ]
  },
  {
   "cell_type": "code",
   "execution_count": 27,
   "metadata": {
    "deletable": false,
    "editable": false,
    "nbgrader": {
     "cell_type": "code",
     "checksum": "078dbd15db1b3ee6eb1f8c31092ce06c",
     "grade": false,
     "grade_id": "cell-8cd18e4a1f1c9be7",
     "locked": true,
     "schema_version": 3,
     "solution": false
    }
   },
   "outputs": [
    {
     "data": {
      "text/plain": [
       "[<matplotlib.lines.Line2D at 0x7faef251f3c8>]"
      ]
     },
     "execution_count": 27,
     "metadata": {},
     "output_type": "execute_result"
    },
    {
     "data": {
      "image/png": "[encoded data removed]",
      "text/plain": [
       "<Figure size 432x288 with 1 Axes>"
      ]
     },
     "metadata": {
      "needs_background": "light"
     },
     "output_type": "display_data"
    }
   ],
   "source": [
    "# Plot the learning curves (the evolution of the following quantities during training)\n",
    "fig, ax = plt.subplots(1)\n",
    "ax.loglog(train_errors)\n",
    "ax.loglog(val_errors)"
   ]
  },
  {
   "cell_type": "code",
   "execution_count": 28,
   "metadata": {
    "deletable": false,
    "editable": false,
    "nbgrader": {
     "cell_type": "code",
     "checksum": "3bb8f2b45e601a474fc8fb118c8f7c7b",
     "grade": false,
     "grade_id": "cell-5a77537fb12d0e5c",
     "locked": true,
     "schema_version": 3,
     "solution": false
    }
   },
   "outputs": [
    {
     "data": {
      "image/png": "[encoded data removed]",
      "text/plain": [
       "<Figure size 432x288 with 1 Axes>"
      ]
     },
     "metadata": {
      "needs_background": "light"
     },
     "output_type": "display_data"
    }
   ],
   "source": [
    "# Plot the final fit\n",
    "plot_fit(mlp, x_train, y_train)"
   ]
  },
  {
   "cell_type": "code",
   "execution_count": 29,
   "metadata": {
    "deletable": false,
    "editable": false,
    "nbgrader": {
     "cell_type": "code",
     "checksum": "58f76db9353563e9ab0d86d02215c007",
     "grade": true,
     "grade_id": "accuracy_weight_decay",
     "locked": true,
     "points": 0,
     "schema_version": 3,
     "solution": false
    }
   },
   "outputs": [
    {
     "name": "stdout",
     "output_type": "stream",
     "text": [
      "Test loss with weight decay: 0.09963\n"
     ]
    }
   ],
   "source": [
    "# Let's look at the test loss\n",
    "test_loss_weight_decay = compute_loss(mlp, x_test, y_test)\n",
    "print(\"Test loss with weight decay: %.5f\" % test_loss_weight_decay)"
   ]
  },
  {
   "cell_type": "markdown",
   "metadata": {
    "deletable": false,
    "editable": false,
    "nbgrader": {
     "cell_type": "markdown",
     "checksum": "95b4f737bf86aba2765d5e8194c3844a",
     "grade": false,
     "grade_id": "cell-838adccf05b5b869",
     "locked": true,
     "schema_version": 3,
     "solution": false
    }
   },
   "source": [
    "# Injecting noise to inputs\n",
    "\n",
    "One way to improve generalization is to add noise to the inputs. So, we update the parameters of $f$ using the gradient of the following function\n",
    "$$c= \\sum_{i=1}^n || f(x_i + n_i) - y_i ||^2$$\n",
    "where $n_i$ is a noise instance.\n",
    "\n",
    "In the code below, implement adding Gaussian noise with standard deviation to the given inputs."
   ]
  },
  {
   "cell_type": "code",
   "execution_count": 30,
   "metadata": {
    "deletable": false,
    "nbgrader": {
     "cell_type": "code",
     "checksum": "56d9d8b8e91510840ae6a9ebf6ab69f5",
     "grade": false,
     "grade_id": "cell-6a44fc25e68a1a04",
     "locked": false,
     "schema_version": 3,
     "solution": true
    }
   },
   "outputs": [],
   "source": [
    "def add_noise(x, noise_std):\n",
    "    \"\"\"Add Gaussian noise to a numpy array x.\n",
    "    \n",
    "    Args:\n",
    "      x (array): Numpy array of inputs.\n",
    "      noise_std (float): Standard deviation of the Gaussian noise.\n",
    "      \n",
    "    Returns:\n",
    "      x with Gaussian noise added.\n",
    "    \"\"\"\n",
    "    # YOUR CODE HERE\n",
    "    noise=np.random.normal(np.zeros(x.shape[0]),noise_std)\n",
    "    x=x+noise.reshape(x.shape)\n",
    "    return x\n",
    "    #raise NotImplementedError()"
   ]
  },
  {
   "cell_type": "code",
   "execution_count": 31,
   "metadata": {
    "deletable": false,
    "editable": false,
    "nbgrader": {
     "cell_type": "code",
     "checksum": "5b25a53cbcc975ef4ec98e852dfa6f59",
     "grade": true,
     "grade_id": "noise_injection",
     "locked": true,
     "points": 1,
     "schema_version": 3,
     "solution": false
    }
   },
   "outputs": [],
   "source": [
    "# Let's test shapes\n",
    "x = np.random.randn(10)\n",
    "x_with_noise = add_noise(x, 0.5)\n",
    "assert x_with_noise.shape == x.shape, \\\n",
    "    \"Bad shapes: x_with_noise.shape={}, x.shape={}\".format(x_with_noise.shape, x.shape)"
   ]
  },
  {
   "cell_type": "code",
   "execution_count": 32,
   "metadata": {
    "deletable": false,
    "editable": false,
    "nbgrader": {
     "cell_type": "code",
     "checksum": "076c2039271aad10f2cf9803ad5726ac",
     "grade": false,
     "grade_id": "cell-be472376f6ade4e2",
     "locked": true,
     "schema_version": 3,
     "solution": false
    }
   },
   "outputs": [
    {
     "name": "stdout",
     "output_type": "stream",
     "text": [
      "Train Epoch 0: Train error 3.65 Validation error 3.46\n",
      "Train Epoch 100: Train error 0.08 Validation error 0.09\n",
      "Train Epoch 200: Train error 0.09 Validation error 0.10\n",
      "Train Epoch 300: Train error 0.10 Validation error 0.13\n",
      "Train Epoch 400: Train error 0.09 Validation error 0.10\n",
      "Train Epoch 500: Train error 0.08 Validation error 0.11\n",
      "Train Epoch 600: Train error 0.08 Validation error 0.09\n",
      "Train Epoch 700: Train error 0.08 Validation error 0.10\n",
      "Train Epoch 800: Train error 0.10 Validation error 0.10\n",
      "Train Epoch 900: Train error 0.08 Validation error 0.09\n",
      "Train Epoch 1000: Train error 0.09 Validation error 0.13\n",
      "Train Epoch 1100: Train error 0.08 Validation error 0.09\n",
      "Train Epoch 1200: Train error 0.09 Validation error 0.12\n",
      "Train Epoch 1300: Train error 0.08 Validation error 0.10\n",
      "Train Epoch 1400: Train error 0.08 Validation error 0.10\n",
      "Train Epoch 1500: Train error 0.08 Validation error 0.11\n",
      "Train Epoch 1600: Train error 0.08 Validation error 0.13\n",
      "Train Epoch 1700: Train error 0.08 Validation error 0.10\n",
      "Train Epoch 1800: Train error 0.09 Validation error 0.14\n",
      "Train Epoch 1900: Train error 0.08 Validation error 0.10\n",
      "Train Epoch 2000: Train error 0.08 Validation error 0.09\n",
      "Train Epoch 2100: Train error 0.09 Validation error 0.10\n",
      "Train Epoch 2200: Train error 0.09 Validation error 0.11\n",
      "Train Epoch 2300: Train error 0.09 Validation error 0.08\n",
      "Train Epoch 2400: Train error 0.08 Validation error 0.09\n",
      "Train Epoch 2500: Train error 0.09 Validation error 0.11\n",
      "Train Epoch 2600: Train error 0.10 Validation error 0.09\n",
      "Train Epoch 2700: Train error 0.09 Validation error 0.12\n",
      "Train Epoch 2800: Train error 0.08 Validation error 0.08\n",
      "Train Epoch 2900: Train error 0.08 Validation error 0.10\n",
      "Train Epoch 3000: Train error 0.09 Validation error 0.12\n",
      "Train Epoch 3100: Train error 0.08 Validation error 0.10\n",
      "Train Epoch 3200: Train error 0.09 Validation error 0.11\n",
      "Train Epoch 3300: Train error 0.10 Validation error 0.11\n",
      "Train Epoch 3400: Train error 0.09 Validation error 0.10\n",
      "Train Epoch 3500: Train error 0.09 Validation error 0.13\n",
      "Train Epoch 3600: Train error 0.08 Validation error 0.08\n",
      "Train Epoch 3700: Train error 0.08 Validation error 0.10\n",
      "Train Epoch 3800: Train error 0.09 Validation error 0.09\n",
      "Train Epoch 3900: Train error 0.08 Validation error 0.10\n"
     ]
    }
   ],
   "source": [
    "# Train MLP with injecting noise to inputs\n",
    "mlp = MLP()\n",
    "mlp.to(device)\n",
    "optimizer = torch.optim.Adam(mlp.parameters(), lr=0.01)\n",
    "n_epochs = 4000\n",
    "train_errors = []\n",
    "val_errors = []\n",
    "for epoch in range(n_epochs):\n",
    "    x = torch.tensor(add_noise(x_train, noise_std=0.07), device=device, dtype=torch.float)\n",
    "    y = torch.tensor(y_train, device=device, dtype=torch.float)\n",
    "    optimizer.zero_grad()\n",
    "    outputs = mlp.forward(x)\n",
    "    loss = F.mse_loss(outputs, y)\n",
    "    loss.backward()\n",
    "    optimizer.step()\n",
    "\n",
    "    if (epoch % 100) == 0:\n",
    "        train_errors.append(compute_loss(mlp, x_train, y_train))\n",
    "        val_errors.append(compute_loss(mlp, x_test, y_test))\n",
    "        print_progress(epoch, train_errors[-1], val_errors[-1])"
   ]
  },
  {
   "cell_type": "code",
   "execution_count": 33,
   "metadata": {
    "deletable": false,
    "editable": false,
    "nbgrader": {
     "cell_type": "code",
     "checksum": "bf65e27e16f373776f1ce20b7ff41448",
     "grade": false,
     "grade_id": "cell-cbdd3af100896b8b",
     "locked": true,
     "schema_version": 3,
     "solution": false
    }
   },
   "outputs": [
    {
     "data": {
      "text/plain": [
       "[<matplotlib.lines.Line2D at 0x7faef1b43c88>]"
      ]
     },
     "execution_count": 33,
     "metadata": {},
     "output_type": "execute_result"
    },
    {
     "data": {
      "image/png": "[encoded data removed]",
      "text/plain": [
       "<Figure size 432x288 with 1 Axes>"
      ]
     },
     "metadata": {
      "needs_background": "light"
     },
     "output_type": "display_data"
    }
   ],
   "source": [
    "# Plot the learning curves: the evolution of training and validation errors during training\n",
    "fig, ax = plt.subplots(1)\n",
    "ax.loglog(train_errors)\n",
    "ax.loglog(val_errors)"
   ]
  },
  {
   "cell_type": "code",
   "execution_count": 34,
   "metadata": {
    "deletable": false,
    "editable": false,
    "nbgrader": {
     "cell_type": "code",
     "checksum": "5c6bb460c104299c6ebec89b7beecfd6",
     "grade": false,
     "grade_id": "cell-c8eb739eb3ecb6ec",
     "locked": true,
     "schema_version": 3,
     "solution": false
    }
   },
   "outputs": [
    {
     "data": {
      "image/png": "[encoded data removed]",
      "text/plain": [
       "<Figure size 432x288 with 1 Axes>"
      ]
     },
     "metadata": {
      "needs_background": "light"
     },
     "output_type": "display_data"
    }
   ],
   "source": [
    "# Plot the final fit\n",
    "plot_fit(mlp, x_train, y_train)"
   ]
  },
  {
   "cell_type": "code",
   "execution_count": 35,
   "metadata": {
    "deletable": false,
    "editable": false,
    "nbgrader": {
     "cell_type": "code",
     "checksum": "a02bcdf645dee0fe7e246258e1d0969e",
     "grade": true,
     "grade_id": "accuracy_",
     "locked": true,
     "points": 0,
     "schema_version": 3,
     "solution": false
    }
   },
   "outputs": [
    {
     "name": "stdout",
     "output_type": "stream",
     "text": [
      "Test loss with noise injection: 0.10515\n"
     ]
    }
   ],
   "source": [
    "# Let's look at the test loss\n",
    "test_loss_inj_noise = compute_loss(mlp, x_test, y_test)\n",
    "print(\"Test loss with noise injection: %.5f\" % test_loss_inj_noise)"
   ]
  },
  {
   "cell_type": "markdown",
   "metadata": {
    "deletable": false,
    "editable": false,
    "nbgrader": {
     "cell_type": "markdown",
     "checksum": "67d297bebda714d47d5d171f010b823b",
     "grade": false,
     "grade_id": "cell-b194dea5c4db3b4f",
     "locked": true,
     "schema_version": 3,
     "solution": false
    }
   },
   "source": [
    "## Dropout\n",
    "\n",
    "Another way to improve generalization is to use dropout. In the cell below, define an MLP with exactly the same architecture as previously but with using `nn.Dropout` layers (with dropout probability 0.02) after each `tanh`\n",
    "nonlinearity. "
   ]
  },
  {
   "cell_type": "code",
   "execution_count": 36,
   "metadata": {
    "deletable": false,
    "nbgrader": {
     "cell_type": "code",
     "checksum": "84c650d0725c53ccd403728c33e04e95",
     "grade": false,
     "grade_id": "cell-65cfc4660990f02f",
     "locked": false,
     "schema_version": 3,
     "solution": true
    }
   },
   "outputs": [],
   "source": [
    "class MLPDropout(nn.Module):\n",
    "    def __init__(self):\n",
    "        # YOUR CODE HERE\n",
    "        super(MLPDropout, self).__init__()\n",
    "        self.net = nn.Sequential(\n",
    "            nn.Linear(1, 100),\n",
    "            nn.Tanh(),\n",
    "            nn.Dropout(p=0.02),\n",
    "            nn.Linear(100, 100),\n",
    "            nn.Tanh(),\n",
    "            nn.Dropout(p=0.02),\n",
    "            nn.Linear(100, 1))\n",
    "        #raise NotImplementedError()\n",
    "        \n",
    "    def forward(self, x):\n",
    "        # YOUR CODE HERE\n",
    "        return self.net(x)\n",
    "        #raise NotImplementedError()"
   ]
  },
  {
   "cell_type": "code",
   "execution_count": 37,
   "metadata": {
    "deletable": false,
    "editable": false,
    "nbgrader": {
     "cell_type": "code",
     "checksum": "7ba761c2d06e1f36c459aaa8ad4e3db4",
     "grade": true,
     "grade_id": "dropout",
     "locked": true,
     "points": 1,
     "schema_version": 3,
     "solution": false
    }
   },
   "outputs": [
    {
     "name": "stdout",
     "output_type": "stream",
     "text": [
      "MLPDropout(\n",
      "  (net): Sequential(\n",
      "    (0): Linear(in_features=1, out_features=100, bias=True)\n",
      "    (1): Tanh()\n",
      "    (2): Dropout(p=0.02)\n",
      "    (3): Linear(in_features=100, out_features=100, bias=True)\n",
      "    (4): Tanh()\n",
      "    (5): Dropout(p=0.02)\n",
      "    (6): Linear(in_features=100, out_features=1, bias=True)\n",
      "  )\n",
      ")\n"
     ]
    }
   ],
   "source": [
    "mlp = MLPDropout()\n",
    "print(mlp)"
   ]
  },
  {
   "cell_type": "code",
   "execution_count": 38,
   "metadata": {
    "deletable": false,
    "editable": false,
    "nbgrader": {
     "cell_type": "code",
     "checksum": "b4e63a49b6732edac59d43ca08e7f179",
     "grade": false,
     "grade_id": "cell-abe08aa52fcfcebe",
     "locked": true,
     "schema_version": 3,
     "solution": false
    }
   },
   "outputs": [
    {
     "name": "stdout",
     "output_type": "stream",
     "text": [
      "Train Epoch 0: Train error 4.85 Validation error 4.51\n",
      "Train Epoch 100: Train error 0.07 Validation error 0.11\n",
      "Train Epoch 200: Train error 0.07 Validation error 0.10\n",
      "Train Epoch 300: Train error 0.07 Validation error 0.11\n",
      "Train Epoch 400: Train error 0.07 Validation error 0.11\n",
      "Train Epoch 500: Train error 0.07 Validation error 0.12\n",
      "Train Epoch 600: Train error 0.07 Validation error 0.12\n",
      "Train Epoch 700: Train error 0.06 Validation error 0.11\n",
      "Train Epoch 800: Train error 0.06 Validation error 0.12\n",
      "Train Epoch 900: Train error 0.06 Validation error 0.12\n",
      "Train Epoch 1000: Train error 0.06 Validation error 0.11\n",
      "Train Epoch 1100: Train error 0.06 Validation error 0.11\n",
      "Train Epoch 1200: Train error 0.06 Validation error 0.10\n",
      "Train Epoch 1300: Train error 0.06 Validation error 0.11\n",
      "Train Epoch 1400: Train error 0.06 Validation error 0.10\n",
      "Train Epoch 1500: Train error 0.06 Validation error 0.11\n",
      "Train Epoch 1600: Train error 0.06 Validation error 0.11\n",
      "Train Epoch 1700: Train error 0.06 Validation error 0.12\n",
      "Train Epoch 1800: Train error 0.05 Validation error 0.10\n",
      "Train Epoch 1900: Train error 0.05 Validation error 0.10\n",
      "Train Epoch 2000: Train error 0.05 Validation error 0.10\n",
      "Train Epoch 2100: Train error 0.05 Validation error 0.10\n",
      "Train Epoch 2200: Train error 0.05 Validation error 0.10\n",
      "Train Epoch 2300: Train error 0.05 Validation error 0.10\n",
      "Train Epoch 2400: Train error 0.05 Validation error 0.09\n",
      "Train Epoch 2500: Train error 0.05 Validation error 0.09\n",
      "Train Epoch 2600: Train error 0.05 Validation error 0.09\n",
      "Train Epoch 2700: Train error 0.05 Validation error 0.09\n",
      "Train Epoch 2800: Train error 0.05 Validation error 0.09\n",
      "Train Epoch 2900: Train error 0.05 Validation error 0.09\n",
      "Train Epoch 3000: Train error 0.05 Validation error 0.09\n",
      "Train Epoch 3100: Train error 0.04 Validation error 0.09\n",
      "Train Epoch 3200: Train error 0.04 Validation error 0.09\n",
      "Train Epoch 3300: Train error 0.04 Validation error 0.09\n",
      "Train Epoch 3400: Train error 0.04 Validation error 0.08\n",
      "Train Epoch 3500: Train error 0.04 Validation error 0.09\n",
      "Train Epoch 3600: Train error 0.04 Validation error 0.09\n",
      "Train Epoch 3700: Train error 0.04 Validation error 0.09\n",
      "Train Epoch 3800: Train error 0.04 Validation error 0.09\n",
      "Train Epoch 3900: Train error 0.04 Validation error 0.09\n"
     ]
    }
   ],
   "source": [
    "# Train MLP with dropout\n",
    "mlp = MLPDropout()\n",
    "mlp.to(device)\n",
    "optimizer = torch.optim.Adam(mlp.parameters(), lr=0.01)\n",
    "scheduler = StepLR(optimizer, step_size=100, gamma=0.95)\n",
    "n_epochs = 4000\n",
    "train_errors = []\n",
    "val_errors = []\n",
    "for epoch in range(n_epochs):\n",
    "    scheduler.step()\n",
    "    mlp.train()\n",
    "    x = torch.tensor(x_train, device=device, dtype=torch.float)\n",
    "    y = torch.tensor(y_train, device=device, dtype=torch.float)\n",
    "    optimizer.zero_grad()\n",
    "    outputs = mlp.forward(x)\n",
    "    loss = F.mse_loss(outputs, y)\n",
    "    loss.backward()\n",
    "    optimizer.step()\n",
    "\n",
    "    if (epoch % 100) == 0:\n",
    "        mlp.eval()\n",
    "        train_errors.append(compute_loss(mlp, x_train, y_train))\n",
    "        val_errors.append(compute_loss(mlp, x_test, y_test))\n",
    "        print_progress(epoch, train_errors[-1], val_errors[-1])"
   ]
  },
  {
   "cell_type": "code",
   "execution_count": 39,
   "metadata": {
    "deletable": false,
    "editable": false,
    "nbgrader": {
     "cell_type": "code",
     "checksum": "e0ad72896fb77b2a65dbcfa443fe3b6b",
     "grade": false,
     "grade_id": "cell-8433adb7942ac189",
     "locked": true,
     "schema_version": 3,
     "solution": false
    }
   },
   "outputs": [
    {
     "data": {
      "text/plain": [
       "[<matplotlib.lines.Line2D at 0x7faef254a390>]"
      ]
     },
     "execution_count": 39,
     "metadata": {},
     "output_type": "execute_result"
    },
    {
     "data": {
      "image/png": "[encoded data removed]",
      "text/plain": [
       "<Figure size 432x288 with 1 Axes>"
      ]
     },
     "metadata": {
      "needs_background": "light"
     },
     "output_type": "display_data"
    }
   ],
   "source": [
    "# Plot the learning curves (the evolution of the following quantities during training)\n",
    "fig, ax = plt.subplots(1)\n",
    "ax.loglog(train_errors)\n",
    "ax.loglog(val_errors)"
   ]
  },
  {
   "cell_type": "code",
   "execution_count": 40,
   "metadata": {
    "deletable": false,
    "editable": false,
    "nbgrader": {
     "cell_type": "code",
     "checksum": "85c5e115c2e848c0c854db5b45d1454b",
     "grade": false,
     "grade_id": "cell-6c24d16cec138a9c",
     "locked": true,
     "schema_version": 3,
     "solution": false
    }
   },
   "outputs": [
    {
     "data": {
      "image/png": "[encoded data removed]",
      "text/plain": [
       "<Figure size 432x288 with 1 Axes>"
      ]
     },
     "metadata": {
      "needs_background": "light"
     },
     "output_type": "display_data"
    }
   ],
   "source": [
    "# Plot the final fit\n",
    "mlp.eval()\n",
    "plot_fit(mlp, x_train, y_train)"
   ]
  },
  {
   "cell_type": "code",
   "execution_count": 41,
   "metadata": {
    "deletable": false,
    "editable": false,
    "nbgrader": {
     "cell_type": "code",
     "checksum": "21e9f1b635f2563eceefcf72a5a04972",
     "grade": true,
     "grade_id": "accuracy_dropout",
     "locked": true,
     "points": 0,
     "schema_version": 3,
     "solution": false
    }
   },
   "outputs": [
    {
     "name": "stdout",
     "output_type": "stream",
     "text": [
      "Test loss with dropout: 0.08493\n"
     ]
    }
   ],
   "source": [
    "# Let's look at the test loss\n",
    "test_loss_dropout = compute_loss(mlp, x_test, y_test)\n",
    "print(\"Test loss with dropout: %.5f\" % test_loss_dropout)"
   ]
  },
  {
   "cell_type": "markdown",
   "metadata": {
    "deletable": false,
    "editable": false,
    "nbgrader": {
     "cell_type": "markdown",
     "checksum": "69843e1d86abd776a60287fd0b2b2406",
     "grade": false,
     "grade_id": "cell-55bc3b6b8e363d8e",
     "locked": true,
     "schema_version": 3,
     "solution": false,
     "task": false
    }
   },
   "source": [
    "## Regularization by reducing model capacity\n",
    "\n",
    "Another simple way to reduce overfitting is to reduce the capacity of the model. Let us use for the same regression task a much smaller network: an MLP with one hidden layer with five units, tanh nonlinearity in the hidden layer and a linear output layer."
   ]
  },
  {
   "cell_type": "code",
   "execution_count": 42,
   "metadata": {
    "deletable": false,
    "nbgrader": {
     "cell_type": "code",
     "checksum": "ed8be34b73c4292c4ccb6ab94891a8d4",
     "grade": false,
     "grade_id": "cell-c3212365fca02faa",
     "locked": false,
     "schema_version": 3,
     "solution": true,
     "task": false
    }
   },
   "outputs": [],
   "source": [
    "class MLPSmall(nn.Module):\n",
    "    def __init__(self):\n",
    "        super(MLPSmall, self).__init__()\n",
    "        # YOUR CODE HERE\n",
    "        super(MLPSmall, self).__init__()\n",
    "        self.net = nn.Sequential(\n",
    "            nn.Linear(1,5),\n",
    "            nn.Tanh(),\n",
    "            nn.Linear(5, 1))\n",
    "        #raise NotImplementedError()\n",
    "    \n",
    "    def forward(self, x):\n",
    "        # YOUR CODE HERE\n",
    "        return self.net(x)\n",
    "        #raise NotImplementedError()"
   ]
  },
  {
   "cell_type": "code",
   "execution_count": 43,
   "metadata": {
    "deletable": false,
    "editable": false,
    "nbgrader": {
     "cell_type": "code",
     "checksum": "9dbf2dfdc13df2fb16328df0c5b54251",
     "grade": false,
     "grade_id": "cell-1c6977bb9e6169e3",
     "locked": true,
     "schema_version": 3,
     "solution": false,
     "task": false
    }
   },
   "outputs": [
    {
     "name": "stdout",
     "output_type": "stream",
     "text": [
      "Train Epoch 0: Train error 0.65 Validation error 0.63\n",
      "Train Epoch 500: Train error 0.52 Validation error 0.51\n",
      "Train Epoch 1000: Train error 0.23 Validation error 0.21\n",
      "Train Epoch 1500: Train error 0.12 Validation error 0.12\n",
      "Train Epoch 2000: Train error 0.09 Validation error 0.13\n",
      "Train Epoch 2500: Train error 0.08 Validation error 0.14\n",
      "Train Epoch 3000: Train error 0.08 Validation error 0.14\n",
      "Train Epoch 3500: Train error 0.07 Validation error 0.14\n",
      "Train Epoch 4000: Train error 0.07 Validation error 0.14\n",
      "Train Epoch 4500: Train error 0.07 Validation error 0.14\n",
      "Train Epoch 5000: Train error 0.07 Validation error 0.14\n",
      "Train Epoch 5500: Train error 0.07 Validation error 0.14\n",
      "Train Epoch 6000: Train error 0.07 Validation error 0.14\n",
      "Train Epoch 6500: Train error 0.07 Validation error 0.15\n",
      "Train Epoch 7000: Train error 0.07 Validation error 0.15\n",
      "Train Epoch 7500: Train error 0.07 Validation error 0.15\n",
      "Train Epoch 8000: Train error 0.07 Validation error 0.15\n",
      "Train Epoch 8500: Train error 0.07 Validation error 0.15\n",
      "Train Epoch 9000: Train error 0.07 Validation error 0.16\n",
      "Train Epoch 9500: Train error 0.07 Validation error 0.16\n"
     ]
    }
   ],
   "source": [
    "mlp = MLPSmall()\n",
    "mlp.to(device)\n",
    "optimizer = torch.optim.Adam(mlp.parameters(), lr=0.001)\n",
    "n_epochs = 10000\n",
    "train_errors = []  # Keep track of the training data\n",
    "val_errors = []  # Keep track of the validation data\n",
    "for epoch in range(n_epochs):\n",
    "    x = torch.tensor(x_train, device=device, dtype=torch.float)\n",
    "    y = torch.tensor(y_train, device=device, dtype=torch.float)\n",
    "\n",
    "    optimizer.zero_grad()\n",
    "    outputs = mlp.forward(x)\n",
    "    loss = F.mse_loss(outputs, y)\n",
    "    loss.backward()\n",
    "    optimizer.step()\n",
    "\n",
    "    if (epoch % 500) == 0:\n",
    "        train_errors.append(compute_loss(mlp, x_train, y_train))\n",
    "        val_errors.append(compute_loss(mlp, x_val, y_val))\n",
    "        print_progress(epoch, train_errors[-1], val_errors[-1])"
   ]
  },
  {
   "cell_type": "code",
   "execution_count": 44,
   "metadata": {
    "deletable": false,
    "editable": false,
    "nbgrader": {
     "cell_type": "code",
     "checksum": "0db0c041062d6f0d7f29bbb59a2aea64",
     "grade": false,
     "grade_id": "cell-f465cfe6bb4297e0",
     "locked": true,
     "schema_version": 3,
     "solution": false,
     "task": false
    }
   },
   "outputs": [
    {
     "data": {
      "text/plain": [
       "[<matplotlib.lines.Line2D at 0x7faef1144f60>]"
      ]
     },
     "execution_count": 44,
     "metadata": {},
     "output_type": "execute_result"
    },
    {
     "data": {
      "image/png": "[encoded data removed]",
      "text/plain": [
       "<Figure size 432x288 with 1 Axes>"
      ]
     },
     "metadata": {
      "needs_background": "light"
     },
     "output_type": "display_data"
    }
   ],
   "source": [
    "# Plot the learning curves (the evolution of the following quantities during training)\n",
    "fig, ax = plt.subplots(1)\n",
    "ax.loglog(train_errors)\n",
    "ax.loglog(val_errors)"
   ]
  },
  {
   "cell_type": "code",
   "execution_count": 45,
   "metadata": {
    "deletable": false,
    "editable": false,
    "nbgrader": {
     "cell_type": "code",
     "checksum": "27ad95465d708b318b1d106f3dd2b3e8",
     "grade": false,
     "grade_id": "cell-443a252b39226e7b",
     "locked": true,
     "schema_version": 3,
     "solution": false,
     "task": false
    }
   },
   "outputs": [
    {
     "data": {
      "image/png": "[encoded data removed]",
      "text/plain": [
       "<Figure size 432x288 with 1 Axes>"
      ]
     },
     "metadata": {
      "needs_background": "light"
     },
     "output_type": "display_data"
    }
   ],
   "source": [
    "# Plot the final fit\n",
    "mlp.eval()\n",
    "plot_fit(mlp, x_train, y_train)"
   ]
  },
  {
   "cell_type": "code",
   "execution_count": 46,
   "metadata": {
    "deletable": false,
    "editable": false,
    "nbgrader": {
     "cell_type": "code",
     "checksum": "f1f58e97eed0a75af66cd6e9df1d330a",
     "grade": true,
     "grade_id": "accuracy_small",
     "locked": true,
     "points": 1,
     "schema_version": 3,
     "solution": false,
     "task": false
    }
   },
   "outputs": [
    {
     "name": "stdout",
     "output_type": "stream",
     "text": [
      "Test loss with dropout: 0.10096\n"
     ]
    }
   ],
   "source": [
    "# Let's look at the test loss\n",
    "test_loss_small = compute_loss(mlp, x_test, y_test)\n",
    "print(\"Test loss with dropout: %.5f\" % test_loss_small)"
   ]
  },
  {
   "cell_type": "code",
   "execution_count": 47,
   "metadata": {
    "deletable": false,
    "editable": false,
    "nbgrader": {
     "cell_type": "code",
     "checksum": "c7a823400a6ae118ec9192c571132d78",
     "grade": false,
     "grade_id": "cell-26f532d3fb21f610",
     "locked": true,
     "schema_version": 3,
     "solution": false,
     "task": false
    }
   },
   "outputs": [
    {
     "name": "stdout",
     "output_type": "stream",
     "text": [
      "No regularization: 0.23199\n",
      "Early stopping:    0.09190\n",
      "Weight decay:      0.09963\n",
      "Noise injection:   0.10515\n",
      "Dropout:           0.08493\n",
      "Small network:     0.10096\n"
     ]
    }
   ],
   "source": [
    "# We can summarize the results obtained with different regularization methods:\n",
    "print('No regularization: %.5f' % test_loss_no_regularization)\n",
    "print('Early stopping:    %.5f' % test_loss_early_stopping)\n",
    "print('Weight decay:      %.5f' % test_loss_weight_decay)\n",
    "print('Noise injection:   %.5f' % test_loss_inj_noise)\n",
    "print('Dropout:           %.5f' % test_loss_dropout)\n",
    "print('Small network:     %.5f' % test_loss_small)"
   ]
  },
  {
   "cell_type": "markdown",
   "metadata": {
    "deletable": false,
    "editable": false,
    "nbgrader": {
     "cell_type": "markdown",
     "checksum": "2ed55496cc341e9c0b2eb71158e81220",
     "grade": false,
     "grade_id": "cell-a9fc6f9740d33f87",
     "locked": true,
     "schema_version": 3,
     "solution": false,
     "task": false
    }
   },
   "source": [
    "The values of the hyperparameters (parameters of the training procedure) may have major impact on the results. One has to find the best hyperparameter values which is usually done by measuring the performance on the validation set."
   ]
  }
 ],
 "metadata": {
  "kernelspec": {
   "display_name": "Python 3",
   "language": "python",
   "name": "python3"
  },
  "language_info": {
   "codemirror_mode": {
    "name": "ipython",
    "version": 3
   },
   "file_extension": ".py",
   "mimetype": "text/x-python",
   "name": "python",
   "nbconvert_exporter": "python",
   "pygments_lexer": "ipython3",
   "version": "3.6.8"
  }
 },
 "nbformat": 4,
 "nbformat_minor": 2
}
