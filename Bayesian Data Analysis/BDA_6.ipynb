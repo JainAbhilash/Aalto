{
 "cells": [
  {
   "cell_type": "code",
   "execution_count": 1,
   "metadata": {},
   "outputs": [],
   "source": [
    "#Importing libraries\n",
    "import pystan\n",
    "%matplotlib inline\n",
    "import matplotlib.pyplot as plt"
   ]
  },
  {
   "cell_type": "markdown",
   "metadata": {},
   "source": [
    "### Stan Model:\n",
    "Below defined is the Stan model with the:<br>\n",
    "1) Data <br>\n",
    "2) Parameters  <br>\n",
    "3) Model <br>"
   ]
  },
  {
   "cell_type": "code",
   "execution_count": 2,
   "metadata": {},
   "outputs": [
    {
     "name": "stderr",
     "output_type": "stream",
     "text": [
      "INFO:pystan:COMPILING THE C++ CODE FOR MODEL anon_model_3bf2e52f6a5648076b4034a856512fe9 NOW.\n"
     ]
    }
   ],
   "source": [
    "Bio_Data =\"\"\"\n",
    "\n",
    "data {\n",
    "    int<lower=0> no_of_doses;\n",
    "    vector[no_of_doses] x;\n",
    "    int n[no_of_doses];\n",
    "    int y[no_of_doses];\n",
    "    vector[2] mu;\n",
    "    matrix[2,2] cov;\n",
    "           \n",
    "}\n",
    "parameters{\n",
    "   vector[2] params;\n",
    "}\n",
    "\n",
    "model{\n",
    "params ~ multi_normal(mu,cov);\n",
    "y ~ binomial_logit(n,params[1]+ params[2]*x);\n",
    "}\n",
    "\"\"\"\n",
    "#Implementation of Stan Model\n",
    "sm = pystan.StanModel(model_code=Bio_Data)\n",
    "schools_dat = {'no_of_doses': 4,\n",
    "               'x':[-0.86, -0.30, -0.05, 0.73],\n",
    "               'n':[5, 5, 5, 5],\n",
    "               'y':[0, 1, 3, 5],\n",
    "               'mu': [0,10],\n",
    "               'cov':[[4,10],[10,100]]}\n"
   ]
  },
  {
   "cell_type": "markdown",
   "metadata": {},
   "source": [
    "Lets try to run the above model for 4 chains, with 2500 iterations, where half (1250) is the warm-up"
   ]
  },
  {
   "cell_type": "code",
   "execution_count": 28,
   "metadata": {},
   "outputs": [],
   "source": [
    "fit = sm.sampling(data=schools_dat, iter=2500, chains=4)"
   ]
  },
  {
   "cell_type": "code",
   "execution_count": 29,
   "metadata": {},
   "outputs": [
    {
     "name": "stdout",
     "output_type": "stream",
     "text": [
      "Inference for Stan model: anon_model_3bf2e52f6a5648076b4034a856512fe9.\n",
      "4 chains, each with iter=2500; warmup=1250; thin=1; \n",
      "post-warmup draws per chain=1250, total post-warmup draws=5000.\n",
      "\n",
      "            mean se_mean     sd   2.5%    25%    50%    75%  97.5%  n_eff   Rhat\n",
      "params[1]   0.94    0.02   0.89  -0.66   0.32   0.88   1.51   2.78   1788    1.0\n",
      "params[2]  10.36    0.12   4.65   3.31   6.98   9.74  13.03  21.25   1454    1.0\n",
      "lp__        -7.1    0.03   1.04  -9.92  -7.48  -6.77  -6.36   -6.1   1272    1.0\n",
      "\n",
      "Samples were drawn using NUTS at Sat Oct 27 18:33:34 2018.\n",
      "For each parameter, n_eff is a crude measure of effective sample size,\n",
      "and Rhat is the potential scale reduction factor on split chains (at \n",
      "convergence, Rhat=1).\n"
     ]
    }
   ],
   "source": [
    "print(fit)"
   ]
  },
  {
   "cell_type": "markdown",
   "metadata": {},
   "source": [
    "### R-Hat Values\n",
    "As we can clearly see the R_Hat values for: <br> $\\alpha$ is 1.0 <br> $\\beta$ is 1.0 <br>\n",
    "Which means, Chains converged and estimates are reliable<br>\n",
    "Reasoning: As R_Hat values is close to 1 the Chains probably converged and the estimates are reliable"
   ]
  },
  {
   "cell_type": "markdown",
   "metadata": {},
   "source": [
    "### Scatter Plot of the draws:\n",
    "Please find below the Scatter plot of the draws"
   ]
  },
  {
   "cell_type": "code",
   "execution_count": 30,
   "metadata": {},
   "outputs": [
    {
     "data": {
      "image/png": "[encoded data removed]",
      "text/plain": [
       "<Figure size 432x288 with 1 Axes>"
      ]
     },
     "metadata": {
      "needs_background": "light"
     },
     "output_type": "display_data"
    }
   ],
   "source": [
    "theta=fit.extract()['params']\n",
    "plt.scatter(theta[:,0],theta[:,1])\n",
    "plt.xlabel(r'$\\alpha$')\n",
    "plt.ylabel(r'$\\beta$')\n",
    "plt.title('Posterior Distribution Scatter plot')\n",
    "plt.show()"
   ]
  }
 ],
 "metadata": {
  "kernelspec": {
   "display_name": "Python 3",
   "language": "python",
   "name": "python3"
  },
  "language_info": {
   "codemirror_mode": {
    "name": "ipython",
    "version": 3
   },
   "file_extension": ".py",
   "mimetype": "text/x-python",
   "name": "python",
   "nbconvert_exporter": "python",
   "pygments_lexer": "ipython3",
   "version": "3.6.6"
  }
 },
 "nbformat": 4,
 "nbformat_minor": 2
}
