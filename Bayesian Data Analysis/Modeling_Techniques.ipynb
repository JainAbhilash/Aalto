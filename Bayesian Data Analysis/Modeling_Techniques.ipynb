{
 "cells": [
  {
   "cell_type": "code",
   "execution_count": 1,
   "metadata": {},
   "outputs": [],
   "source": [
    "import numpy as np\n",
    "import pandas as pd\n",
    "import pystan\n",
    "import matplotlib.pyplot as plt"
   ]
  },
  {
   "cell_type": "code",
   "execution_count": 2,
   "metadata": {},
   "outputs": [],
   "source": [
    "df = pd.read_csv('drowning.txt',' ',header=None)\n",
    "drowns_per_year = df.values"
   ]
  },
  {
   "cell_type": "markdown",
   "metadata": {},
   "source": [
    "# Mistakes in the STAN code\n",
    "1. There is no lower bound to sigma, Fix to this is : $real<lower=0>~ sigma$"
   ]
  },
  {
   "cell_type": "markdown",
   "metadata": {},
   "source": [
    "2. The Y_pred is defined incorrectly, The mean should be taken for the prediction of the current year , Fix to this is:$ypred = normal\\_rng(alpha + beta*xpred, sigma);$"
   ]
  },
  {
   "cell_type": "code",
   "execution_count": 3,
   "metadata": {},
   "outputs": [],
   "source": [
    "stan_code=\"\"\"\n",
    "data {\n",
    "int<lower=0> N; // number of data points\n",
    "vector[N] x; // observation year\n",
    "vector[N] y; // observation number of drowned\n",
    "real xpred; // prediction year\n",
    "real pmubeta;  // prior mean for beta\n",
    "real psbeta;   // prior std for beta\n",
    "}\n",
    "parameters {\n",
    "real alpha;\n",
    "real beta;\n",
    "real<lower=0> sigma;//FIXED\n",
    "}\n",
    "transformed parameters {\n",
    "vector[N] mu;\n",
    "mu = alpha + beta*x;\n",
    "}\n",
    "model {\n",
    "beta ~ normal(pmubeta, psbeta);\n",
    "y ~ normal(mu, sigma);\n",
    "}\n",
    "generated quantities {\n",
    "real ypred;\n",
    "ypred = normal_rng(alpha+beta*xpred, sigma); //FIXED\n",
    "}\n",
    "\"\"\""
   ]
  },
  {
   "cell_type": "code",
   "execution_count": 4,
   "metadata": {},
   "outputs": [
    {
     "name": "stderr",
     "output_type": "stream",
     "text": [
      "INFO:pystan:COMPILING THE C++ CODE FOR MODEL anon_model_862e35b101f00c814a3153a7fa9ce8e0 NOW.\n"
     ]
    }
   ],
   "source": [
    "sm = pystan.StanModel(model_code=stan_code)"
   ]
  },
  {
   "cell_type": "markdown",
   "metadata": {},
   "source": [
    "## Approximating numerical value of $\\tau$\n",
    "WE can calculate the value of $\\tau$ numerically using the probability given in the problem\n",
    "$$ Pr[ \\beta \\leq -69] + Pr[\\beta \\geq 69] = 0.01$$\n",
    "As $\\beta \\sim N(0,\\tau^2)$ the normal distribution is symmetric\n",
    "$$ 2\\cdot Pr[\\beta \\leq -69] = 0.01$$\n",
    "$$ Pr[\\beta \\leq -69] = 0.005$$\n",
    "Converting this equation from $N(0,\\tau^2)$ to one that uses standard normal distribution $N(0,1)$\n",
    "$$ Pr\\left[\\frac{\\beta-0}{\\tau} \\leq \\frac{-69-0}{\\tau}\\right] = 0.01$$\n",
    "$$ Pr\\left[N \\leq \\frac{-69}{\\tau}\\right] = 0.01$$\n",
    "We can use the python normal distribution to calculate the inverse CDF to find what $\\tau$ should be\n",
    "$$ \\frac{-69}{\\tau} = CDF^{-1}(0.01)$$\n",
    "$$ \\tau = \\frac{-69}{CDF^{-1}(0.01)}$$\n",
    "\n",
    "We get the value of $\\tau$ as 26.787489335933035 as seen below"
   ]
  },
  {
   "cell_type": "code",
   "execution_count": 5,
   "metadata": {},
   "outputs": [
    {
     "name": "stdout",
     "output_type": "stream",
     "text": [
      "The value of tau is:  26.787489335933035\n"
     ]
    }
   ],
   "source": [
    "from scipy.stats import norm\n",
    "\n",
    "standard_norm = norm()\n",
    "# ppf is the inverse CDF function\n",
    "tau = -69/standard_norm.ppf(0.005)\n",
    "print(\"The value of tau is: \",tau)"
   ]
  },
  {
   "cell_type": "markdown",
   "metadata": {},
   "source": [
    "## Implementing the desired prior in code\n",
    "We can incorporate the prior by sending $pmubeta =0$ and $psbeta=\\tau$ as the prior distribution variable"
   ]
  },
  {
   "cell_type": "code",
   "execution_count": 6,
   "metadata": {},
   "outputs": [],
   "source": [
    "data ={\n",
    "    'N':drowns_per_year.shape[0],\n",
    "    'x':drowns_per_year[:,0],\n",
    "    'y':drowns_per_year[:,1],\n",
    "    'xpred':2019,\n",
    "    'pmubeta':0,\n",
    "    'psbeta':26.787489335933035\n",
    "}"
   ]
  },
  {
   "cell_type": "code",
   "execution_count": 7,
   "metadata": {},
   "outputs": [
    {
     "name": "stderr",
     "output_type": "stream",
     "text": [
      "D:\\Anaconda3\\lib\\site-packages\\pystan\\misc.py:399: FutureWarning: Conversion of the second argument of issubdtype from `float` to `np.floating` is deprecated. In future, it will be treated as `np.float64 == np.dtype(float).type`.\n",
      "  elif np.issubdtype(np.asarray(v).dtype, float):\n"
     ]
    }
   ],
   "source": [
    "fit = sm.sampling(data=data,iter=1000,chains=4)"
   ]
  },
  {
   "cell_type": "code",
   "execution_count": 8,
   "metadata": {},
   "outputs": [
    {
     "name": "stdout",
     "output_type": "stream",
     "text": [
      "Inference for Stan model: anon_model_862e35b101f00c814a3153a7fa9ce8e0.\n",
      "4 chains, each with iter=1000; warmup=500; thin=1; \n",
      "post-warmup draws per chain=500, total post-warmup draws=2000.\n",
      "\n",
      "         mean se_mean     sd   2.5%    25%    50%    75%  97.5%  n_eff   Rhat\n",
      "alpha  1798.1   33.53 766.04 361.84 1281.7 1796.4 2298.7 3292.9    522    1.0\n",
      "beta    -0.83    0.02   0.38  -1.58  -1.08  -0.83  -0.57  -0.11    522    1.0\n",
      "sigma   26.05    0.13   3.18  20.54  23.71  25.75  28.08  32.57    562   1.01\n",
      "mu[0]  153.01    0.33   8.01 137.48 147.73 153.05 158.16 169.38    592    1.0\n",
      "mu[1]  152.18    0.31   7.69 137.35 147.13 152.23 157.12 168.06    603    1.0\n",
      "mu[2]  151.35     0.3   7.37 137.21 146.51 151.38 156.06 166.58    615    1.0\n",
      "mu[3]  150.52    0.28   7.06 136.95 145.93 150.58  155.1 165.12    630    1.0\n",
      "mu[4]  149.69    0.27   6.76  136.7 145.26 149.73 154.02 163.62    647    1.0\n",
      "mu[5]  148.86    0.25   6.46 136.44  144.6  148.9 152.99 162.25    668    1.0\n",
      "mu[6]  148.02    0.23   6.18 136.13 143.89 148.11 151.96 160.81    694    1.0\n",
      "mu[7]  147.19    0.22    5.9 135.81 143.24 147.25 150.98 159.23    725    1.0\n",
      "mu[8]  146.36     0.2   5.64 135.48 142.61 146.39 149.94 157.93    763    1.0\n",
      "mu[9]  145.53    0.19    5.4 135.21 141.95 145.58 148.97 156.53    810    1.0\n",
      "mu[10]  144.7    0.18   5.17 134.78 141.26 144.68 148.01 155.34    869    1.0\n",
      "mu[11] 143.87    0.16   4.96 134.41 140.61 143.88 147.12 154.07    943    1.0\n",
      "mu[12] 143.04    0.15   4.77 133.93 139.93  143.0 146.14 152.79   1036    1.0\n",
      "mu[13] 142.21    0.13    4.6  133.4 139.15 142.23 145.11 151.52   1308    1.0\n",
      "mu[14] 141.38    0.12   4.46 132.85  138.4 141.33 144.14 150.41   1445    1.0\n",
      "mu[15] 140.55    0.11   4.35 132.05 137.75  140.5  143.3 149.44   1591    1.0\n",
      "mu[16] 139.72     0.1   4.28 131.42 136.93 139.64 142.47 148.54   1735    1.0\n",
      "mu[17] 138.89     0.1   4.23 130.49  136.1 138.76  141.6 147.59   1890    1.0\n",
      "mu[18] 138.05     0.1   4.22 129.69  135.3  137.9 140.77 146.55   1916    1.0\n",
      "mu[19] 137.22     0.1   4.25 128.68 134.41  137.1 140.03 145.74   1912    1.0\n",
      "mu[20] 136.39     0.1   4.31 127.84 133.59 136.27 139.25 144.98   1878    1.0\n",
      "mu[21] 135.56     0.1    4.4 126.74 132.68 135.44 138.49 144.15   1779    1.0\n",
      "mu[22] 134.73    0.11   4.53 125.69  131.7 134.63 137.73 143.65   1653    1.0\n",
      "mu[23]  133.9    0.12   4.68 124.76 130.76 133.83 136.96 143.07   1468    1.0\n",
      "mu[24] 133.07    0.13   4.85 123.65 129.77 133.01 136.29 142.63   1336    1.0\n",
      "mu[25] 132.24    0.14   5.05 122.45 128.75 132.17 135.63 142.26   1223    1.0\n",
      "mu[26] 131.41    0.16   5.27 121.23 127.81 131.41 134.97 141.96   1128    1.0\n",
      "mu[27] 130.58    0.17   5.51 119.76 126.84 130.59 134.23 141.59   1050    1.0\n",
      "mu[28] 129.75    0.18   5.77 118.28 125.82 129.77 133.55 141.25    985    1.0\n",
      "mu[29] 128.91     0.2   6.03 117.08 124.81 128.92 132.91 140.92    928    1.0\n",
      "mu[30] 128.08    0.21   6.31 115.65 123.79 128.12 132.33 140.56    882    1.0\n",
      "mu[31] 127.25    0.23    6.6 114.38 122.84 127.27 131.72 140.18    843    1.0\n",
      "mu[32] 126.42    0.24    6.9 112.92  121.8  126.4 131.11 139.81    810    1.0\n",
      "mu[33] 125.59    0.26   7.21 111.45 120.77  125.5 130.41 139.53    783    1.0\n",
      "mu[34] 124.76    0.27   7.52 110.05  119.8 124.68 129.73  139.4    751    1.0\n",
      "mu[35] 123.93    0.29   7.84 108.54 118.76 123.82 129.11 139.32    730    1.0\n",
      "mu[36]  123.1    0.31   8.17 107.05 117.66 122.98 128.49  139.1    712    1.0\n",
      "ypred  120.15    0.64  28.44  65.62 101.74 119.57 138.66  176.2   1997    1.0\n",
      "lp__   -135.0    0.05   1.19 -138.1 -135.5 -134.7 -134.1 -133.6    621    1.0\n",
      "\n",
      "Samples were drawn using NUTS at Sat Nov  3 22:48:31 2018.\n",
      "For each parameter, n_eff is a crude measure of effective sample size,\n",
      "and Rhat is the potential scale reduction factor on split chains (at \n",
      "convergence, Rhat=1).\n"
     ]
    }
   ],
   "source": [
    "print(fit)"
   ]
  },
  {
   "cell_type": "code",
   "execution_count": 11,
   "metadata": {},
   "outputs": [
    {
     "data": {
      "image/png": "[encoded data removed]",
      "text/plain": [
       "<Figure size 432x288 with 1 Axes>"
      ]
     },
     "metadata": {
      "needs_background": "light"
     },
     "output_type": "display_data"
    },
    {
     "data": {
      "image/png": "[encoded data removed]",
      "text/plain": [
       "<Figure size 432x288 with 1 Axes>"
      ]
     },
     "metadata": {
      "needs_background": "light"
     },
     "output_type": "display_data"
    }
   ],
   "source": [
    "y_pred = fit.extract()['ypred']\n",
    "plt.hist(y_pred,bins=50,ec='white')\n",
    "beta = fit.extract()['beta']\n",
    "plt.title(\"Posterior Predective for year 2019\")\n",
    "plt.show()\n",
    "plt.hist(beta,bins=50,ec='white')\n",
    "plt.xlabel(\"Beta\")\n",
    "plt.show()"
   ]
  },
  {
   "cell_type": "markdown",
   "metadata": {},
   "source": [
    "# Second Exercise"
   ]
  },
  {
   "cell_type": "code",
   "execution_count": 12,
   "metadata": {},
   "outputs": [],
   "source": [
    "factory_data = pd.read_csv('factory.txt',delimiter=\"\\s+\",header=None)\n",
    "factory_data = factory_data.values"
   ]
  },
  {
   "cell_type": "code",
   "execution_count": 13,
   "metadata": {},
   "outputs": [
    {
     "data": {
      "text/plain": [
       "array([[ 83, 117, 101, 105,  79,  57],\n",
       "       [ 92, 109,  93, 119,  97,  92],\n",
       "       [ 92, 114,  92, 116, 103, 104],\n",
       "       [ 46, 104,  86, 102,  79,  77],\n",
       "       [ 67,  87,  67, 116,  92, 100]], dtype=int64)"
      ]
     },
     "execution_count": 13,
     "metadata": {},
     "output_type": "execute_result"
    }
   ],
   "source": [
    "factory_data"
   ]
  },
  {
   "cell_type": "markdown",
   "metadata": {},
   "source": [
    "## Separate Model\n",
    "Here in the separate model we fit one $\\mu_j$ and one $\\sigma_j$ for each specific machine. Hence the model can be written as :\n",
    "$$ y_{ij} \\mid \\mu_j,\\sigma_j \\sim N(\\mu_j,\\sigma_j)$$\n",
    "Where $y_{ij}$ is the $i^{th}$ measurement for the $j^{th}$ machine"
   ]
  },
  {
   "cell_type": "code",
   "execution_count": 14,
   "metadata": {},
   "outputs": [],
   "source": [
    "factory_model_separate =\"\"\"\n",
    "data {\n",
    "  int<lower=0> N; // number of data points\n",
    "  int<lower=0> K; // number of groups\n",
    "  int<lower=1,upper=K> x[N]; // group indicator\n",
    "  vector[N] y; //\n",
    "}\n",
    "parameters {\n",
    "  vector[K] mu;        // group means\n",
    "  vector<lower=0>[K] sigma; // stds\n",
    "}\n",
    "model {\n",
    "  y ~ normal(mu[x], sigma[x]);\n",
    "}\n",
    "generated quantities {\n",
    "real ypred;\n",
    "ypred = normal_rng(mu[6], sigma[6]);\n",
    "}\n",
    "\"\"\"\n"
   ]
  },
  {
   "cell_type": "code",
   "execution_count": 15,
   "metadata": {},
   "outputs": [
    {
     "name": "stderr",
     "output_type": "stream",
     "text": [
      "INFO:pystan:COMPILING THE C++ CODE FOR MODEL anon_model_0c0813c66cc496f25e489e51efbdd0b2 NOW.\n"
     ]
    }
   ],
   "source": [
    "Seperate_model = pystan.StanModel(model_code=factory_model_separate)"
   ]
  },
  {
   "cell_type": "markdown",
   "metadata": {},
   "source": [
    "### Fitting the model"
   ]
  },
  {
   "cell_type": "code",
   "execution_count": 16,
   "metadata": {},
   "outputs": [
    {
     "name": "stdout",
     "output_type": "stream",
     "text": [
      "Inference for Stan model: anon_model_0c0813c66cc496f25e489e51efbdd0b2.\n",
      "4 chains, each with iter=2000; warmup=1000; thin=1; \n",
      "post-warmup draws per chain=1000, total post-warmup draws=4000.\n",
      "\n",
      "           mean se_mean     sd   2.5%    25%    50%    75%  97.5%  n_eff   Rhat\n",
      "mu[0]     76.88    0.51  16.29  47.55  68.71  76.33  84.02 111.64   1024    1.0\n",
      "mu[1]    107.56    0.88  15.36  85.78 101.58 106.39 111.33 131.76    307   1.01\n",
      "mu[2]     87.95    0.33  10.15  68.74  82.79  87.71  92.74 107.98    935    1.0\n",
      "mu[3]    111.52    0.17   6.09  98.95 108.58 111.55 114.57 123.63   1250    1.0\n",
      "mu[4]      90.5    0.45   11.0  71.76  85.72  90.09  94.67 112.04    596   1.01\n",
      "mu[5]     86.33    0.49  16.26  52.39  78.43  86.03  93.56 121.32   1119    1.0\n",
      "sigma[0]  30.83    0.59  18.79  13.18   19.4   25.3  35.11  86.48   1019    1.0\n",
      "sigma[1]  20.62    1.22  22.35   8.01   12.0   15.6  21.86  61.97    338   1.01\n",
      "sigma[2]  20.07    0.41  13.67   8.38  12.64  16.54  22.89  53.57   1102    1.0\n",
      "sigma[3]  11.85     0.2   7.61   5.05   7.45   9.71  13.79  31.71   1387    1.0\n",
      "sigma[4]  17.91    0.59  16.05   7.09  10.59  14.26   20.1  50.46    751    1.0\n",
      "sigma[5]   30.5    0.56  19.62  12.69  19.05  25.09  35.42  80.72   1230    1.0\n",
      "ypred     86.57    0.76  38.67  11.52  67.42  86.61 105.62 163.15   2598    1.0\n",
      "lp__     -81.36    0.12   3.34 -89.46 -83.14 -80.87 -78.99 -76.32    740    1.0\n",
      "\n",
      "Samples were drawn using NUTS at Sat Nov  3 22:50:48 2018.\n",
      "For each parameter, n_eff is a crude measure of effective sample size,\n",
      "and Rhat is the potential scale reduction factor on split chains (at \n",
      "convergence, Rhat=1).\n"
     ]
    }
   ],
   "source": [
    "sep_data ={\n",
    "    'N':factory_data.size,\n",
    "    'K':6,#Number of groups\n",
    "    'x':list(range(1,7,1))*5,#group indicator\n",
    "    'y':factory_data.flatten()\n",
    "}\n",
    "sep_fit = Seperate_model.sampling(data=sep_data,iter=2000,chains=4)\n",
    "print(sep_fit)\n",
    "sep_y_pred = sep_fit.extract()['ypred']\n",
    "mus = sep_fit.extract()['mu']"
   ]
  },
  {
   "cell_type": "markdown",
   "metadata": {},
   "source": [
    "### i) Posterior distribution for 6th machine\n",
    "In the separate model as we fit a specific value of $\\mu$ and $\\sigma$ for each machine we can plot the distribution of $\\mu_6$ from the model that we fit .<br>\n",
    "Hence the histogram below is the distribution of $\\mu_6$ that was obtained from the model"
   ]
  },
  {
   "cell_type": "code",
   "execution_count": 17,
   "metadata": {},
   "outputs": [
    {
     "data": {
      "image/png": "[encoded data removed]",
      "text/plain": [
       "<Figure size 432x288 with 1 Axes>"
      ]
     },
     "metadata": {
      "needs_background": "light"
     },
     "output_type": "display_data"
    }
   ],
   "source": [
    "plt.hist(mus[:,5],bins=30,ec='white')\n",
    "plt.title(r\"Posterior distribtuion of $\\mu_6$\")\n",
    "plt.xlabel(r\"$\\mu_6$\")\n",
    "plt.show()"
   ]
  },
  {
   "cell_type": "markdown",
   "metadata": {},
   "source": [
    "### ii) Predictive distribution for another quality measurement\n",
    "The distribution is given by the separate parameters mu[5] and sigma[5] and a new value for the 6th machine measurement is given by **ypred**, which we have already defined"
   ]
  },
  {
   "cell_type": "code",
   "execution_count": 18,
   "metadata": {},
   "outputs": [
    {
     "data": {
      "image/png": "[encoded data removed]",
      "text/plain": [
       "<Figure size 432x288 with 1 Axes>"
      ]
     },
     "metadata": {
      "needs_background": "light"
     },
     "output_type": "display_data"
    }
   ],
   "source": [
    "plt.hist(sep_y_pred,ec='white',bins=20)\n",
    "plt.title(r\"Posterior Predicitive Distribution for $6^{th}$ Machine\")\n",
    "plt.xlabel(\"predicted quality measurememt\")\n",
    "plt.show()"
   ]
  },
  {
   "cell_type": "markdown",
   "metadata": {},
   "source": [
    "###  iii) Posterior distribution of $\\mu$ for 7th Machine\n",
    "We cannot have a posterior distribution of the 7th machine as **we have no data for the 7th machine**, hence no model that we can draw samples from\n",
    "Hence there is **no histogram for the 7th Machine** "
   ]
  },
  {
   "cell_type": "markdown",
   "metadata": {},
   "source": [
    "## Pooled model"
   ]
  },
  {
   "cell_type": "code",
   "execution_count": 19,
   "metadata": {},
   "outputs": [
    {
     "name": "stderr",
     "output_type": "stream",
     "text": [
      "INFO:pystan:COMPILING THE C++ CODE FOR MODEL anon_model_aeeaeaf884db0a4618642b545241ecee NOW.\n"
     ]
    }
   ],
   "source": [
    "factory_code_pooled =\"\"\"\n",
    "data {\n",
    "  int<lower=0> N; // number of data points\n",
    "  vector[N] y; //\n",
    "}\n",
    "parameters {\n",
    "  real mu;        // common mean\n",
    "  real<lower=0> sigma; // common std\n",
    "}\n",
    "model {\n",
    "  y ~ normal(mu, sigma);\n",
    "}\n",
    "generated quantities {\n",
    "real ypred;\n",
    "ypred = normal_rng(mu, sigma);\n",
    "}\n",
    "\"\"\"\n",
    "pooled_model = pystan.StanModel(model_code=factory_code_pooled)"
   ]
  },
  {
   "cell_type": "code",
   "execution_count": 20,
   "metadata": {},
   "outputs": [
    {
     "name": "stdout",
     "output_type": "stream",
     "text": [
      "Inference for Stan model: anon_model_aeeaeaf884db0a4618642b545241ecee.\n",
      "4 chains, each with iter=1000; warmup=500; thin=1; \n",
      "post-warmup draws per chain=500, total post-warmup draws=2000.\n",
      "\n",
      "        mean se_mean     sd   2.5%    25%    50%    75%  97.5%  n_eff   Rhat\n",
      "mu     92.86     0.1   3.72  85.54   90.4   92.9  95.35  99.93   1348    1.0\n",
      "sigma  19.05    0.08   2.68  14.67  17.14  18.76  20.64   25.0   1165    1.0\n",
      "ypred  91.95    0.42  18.84  53.33  79.97  92.23 104.85 127.55   2000   1.01\n",
      "lp__  -99.45    0.04   1.11 -102.4 -99.92 -99.11 -98.63 -98.35    822    1.0\n",
      "\n",
      "Samples were drawn using NUTS at Sat Nov  3 22:51:45 2018.\n",
      "For each parameter, n_eff is a crude measure of effective sample size,\n",
      "and Rhat is the potential scale reduction factor on split chains (at \n",
      "convergence, Rhat=1).\n"
     ]
    }
   ],
   "source": [
    "pooled_data={\n",
    "    'N':factory_data.flatten().shape[0],\n",
    "    'y':factory_data.flatten()\n",
    "}\n",
    "pooled_fit = pooled_model.sampling(data=pooled_data,iter=1000,chains=4)\n",
    "print(pooled_fit)"
   ]
  },
  {
   "cell_type": "markdown",
   "metadata": {},
   "source": [
    "### i) Posterior distribution for 6th machine\n",
    "As the pooled model has no concept of different machines, the posterior distribution of the 6th machine is just the posterior distribution of the model that was fit.\n",
    "Hence the histogram below is the distribution of $\\mu$ that was obtained from the model"
   ]
  },
  {
   "cell_type": "code",
   "execution_count": 21,
   "metadata": {},
   "outputs": [
    {
     "data": {
      "image/png": "[encoded data removed]",
      "text/plain": [
       "<Figure size 432x288 with 1 Axes>"
      ]
     },
     "metadata": {
      "needs_background": "light"
     },
     "output_type": "display_data"
    }
   ],
   "source": [
    "mup = pooled_fit.extract()['mu']\n",
    "plt.hist(mup,bins=20,ec='white')\n",
    "plt.title(r\"Posterior distribtuion of $\\mu$ (for $6^{th}$ machine)\")\n",
    "plt.xlabel(r\"$\\mu$\")\n",
    "plt.show()"
   ]
  },
  {
   "cell_type": "markdown",
   "metadata": {},
   "source": [
    "### ii) Predictive distribution for another quality measurement\n",
    "We cannot derive a measurement for particular 6th machine, since all the model does is fit the data coming from all the machines into a common $\\mu$ and $\\sigma$.\n",
    "\n",
    "All that we can do here is predict (in general) another measurement."
   ]
  },
  {
   "cell_type": "code",
   "execution_count": 22,
   "metadata": {},
   "outputs": [
    {
     "data": {
      "image/png": "[encoded data removed]",
      "text/plain": [
       "<Figure size 432x288 with 1 Axes>"
      ]
     },
     "metadata": {
      "needs_background": "light"
     },
     "output_type": "display_data"
    }
   ],
   "source": [
    "plt.hist(pooled_fit.extract()['ypred'],bins=20,ec=\"white\")\n",
    "plt.title(r\"Posterior Predictive Distribution of $6^{th}$ Machine\")\n",
    "plt.xlabel(\"Predicitions\")\n",
    "plt.show()\n"
   ]
  },
  {
   "cell_type": "markdown",
   "metadata": {},
   "source": [
    "### iii) Posterior distribution of $\\mu$ for 7th Machine\n",
    "As previously mentioned there is no concept of separate machines, hence even for the 7th we can just predict the same distribution of $\\mu$ as obtained from our model as there is **no change if we did not have data for the specific machine while fitting the model**.<br>\n",
    "Hence the histogram below is the distribution of $\\mu$ that was obtained from the model."
   ]
  },
  {
   "cell_type": "code",
   "execution_count": 23,
   "metadata": {},
   "outputs": [
    {
     "data": {
      "image/png": "[encoded data removed]",
      "text/plain": [
       "<Figure size 432x288 with 1 Axes>"
      ]
     },
     "metadata": {
      "needs_background": "light"
     },
     "output_type": "display_data"
    }
   ],
   "source": [
    "mup = pooled_fit.extract()['mu']\n",
    "plt.hist(mup,bins=20,ec='white')\n",
    "plt.title(r\"Posterior distribtuion of $\\mu$ (for $7^{th}$ machine)\")\n",
    "plt.xlabel(r\"$\\mu$\")\n",
    "plt.show()"
   ]
  },
  {
   "cell_type": "markdown",
   "metadata": {},
   "source": [
    "## Hierarchical model\n",
    "In the hierarchical model we have a mean $\\mu$ for every machine and a common $\\sigma$ but also we have hyper-parameters $\\mu_0$ and $\\sigma_0$ as parameters that describe the distribution of $\\mu$ for any machine.<br>\n",
    "Hence the model can be written in two parts as:\n",
    "$$ \\mu_j \\mid \\mu_0, \\sigma_0 \\sim N(\\mu_0,\\sigma_0)$$\n",
    "$$ y_{ij} \\mid \\mu_j, \\sigma \\sim N(\\mu_j,\\sigma)$$\n",
    "Where $y_{ij}$ is the $i^{th}$ measurement for the $j^{th}$ machine"
   ]
  },
  {
   "cell_type": "markdown",
   "metadata": {},
   "source": [
    "#### Stan Model for Hierarchical Model"
   ]
  },
  {
   "cell_type": "code",
   "execution_count": 24,
   "metadata": {},
   "outputs": [],
   "source": [
    "factory_model_hierachical =\"\"\"\n",
    "data {\n",
    "  int<lower=0> N; // number of data points\n",
    "  int<lower=0> K; // number of groups\n",
    "  int<lower=1,upper=K> x[N]; // group indicator\n",
    "  vector[N] y; //\n",
    "}\n",
    "parameters {\n",
    "  real mu0;        // group means\n",
    "  real<lower=0> sigma0; // common std\n",
    "  vector[K] mu;\n",
    "  real<lower=0> sigma;\n",
    "  \n",
    "}\n",
    "model {\n",
    "  mu ~ normal(mu0,sigma0);\n",
    "  y ~ normal(mu[x], sigma);\n",
    "}\n",
    "generated quantities {\n",
    "  real y_pred;\n",
    "  real mu_pred;\n",
    "  real y7_pred;\n",
    "  y_pred = normal_rng(mu[6],sigma);\n",
    "  mu_pred = normal_rng(mu0,sigma0);\n",
    "  y7_pred = normal_rng(mu_pred,sigma);\n",
    "}\n",
    "\"\"\""
   ]
  },
  {
   "cell_type": "code",
   "execution_count": 25,
   "metadata": {},
   "outputs": [
    {
     "name": "stderr",
     "output_type": "stream",
     "text": [
      "INFO:pystan:COMPILING THE C++ CODE FOR MODEL anon_model_6ba85296d012a0ebc3b438931f194e62 NOW.\n"
     ]
    }
   ],
   "source": [
    "sm_hie = pystan.StanModel(model_code=factory_model_hierachical)"
   ]
  },
  {
   "cell_type": "markdown",
   "metadata": {},
   "source": [
    "### Model Fit"
   ]
  },
  {
   "cell_type": "code",
   "execution_count": 26,
   "metadata": {},
   "outputs": [
    {
     "name": "stdout",
     "output_type": "stream",
     "text": [
      "Inference for Stan model: anon_model_6ba85296d012a0ebc3b438931f194e62.\n",
      "4 chains, each with iter=1000; warmup=500; thin=1; \n",
      "post-warmup draws per chain=500, total post-warmup draws=2000.\n",
      "\n",
      "          mean se_mean     sd   2.5%    25%    50%    75%  97.5%  n_eff   Rhat\n",
      "mu0      92.73    0.21   7.38  77.38  88.71  92.84  96.72 107.77   1189    1.0\n",
      "sigma0   15.53    0.49   8.94    2.5  10.34  13.89  18.89  37.18    334   1.01\n",
      "mu[0]     80.3    0.43   6.88  67.69  75.38  79.87  84.89  94.59    252   1.01\n",
      "mu[1]   102.85    0.34   6.62  90.12  98.31 102.68 107.33 115.51    377   1.01\n",
      "mu[2]    89.14    0.14    6.1  76.46   85.4  89.43  93.16  100.6   2000    1.0\n",
      "mu[3]   107.15    0.44   6.98  92.29 102.64 107.39 111.83 120.62    257   1.01\n",
      "mu[4]    90.66    0.14   6.29  77.63  86.55  91.01  94.74 102.97   2000    1.0\n",
      "mu[5]    87.52    0.17   6.22  74.88  83.51  87.68  91.74 100.08   1309    1.0\n",
      "sigma    15.26    0.11   2.43  11.34  13.51  14.96  16.76  20.61    508    1.0\n",
      "y_pred   87.38    0.37  16.55  53.04   77.1   87.4  98.64 119.41   2000    1.0\n",
      "mu_pred  93.55    0.46  19.62  56.27  84.23  93.24 102.93 134.68   1831    1.0\n",
      "y7_pred  94.12    0.57   25.1  45.13  79.33  94.98 109.72 143.91   1917    1.0\n",
      "lp__    -108.6    0.16   2.51 -114.6 -110.0 -108.3 -106.9 -104.5    235   1.01\n",
      "\n",
      "Samples were drawn using NUTS at Sat Nov  3 22:52:48 2018.\n",
      "For each parameter, n_eff is a crude measure of effective sample size,\n",
      "and Rhat is the potential scale reduction factor on split chains (at \n",
      "convergence, Rhat=1).\n"
     ]
    }
   ],
   "source": [
    "hierarchical_data ={\n",
    "    'N':factory_data.size,\n",
    "    'K':6,\n",
    "    'x':list(range(1,7,1))*5,\n",
    "    'y':factory_data.flatten()\n",
    "}\n",
    "### CHANGE THE ANEM FROM sm_pooled\n",
    "hier_fit = sm_hie.sampling(data=hierarchical_data,iter=1000,chains=4)\n",
    "print(hier_fit)\n",
    "hier_y_pred = hier_fit.extract()['y_pred']\n",
    "hier_y7_pred = hier_fit.extract()['y7_pred']\n",
    "hier_mu_pred = hier_fit.extract()['mu_pred']"
   ]
  },
  {
   "cell_type": "markdown",
   "metadata": {},
   "source": [
    "### Formulation:\n",
    "$\\theta_6$ = p($\\mu_6$ | $\\mu_6$, $\\sigma$) where $\\mu_6$ here denotes the the mean for machine 6 and sigma is the common vairance\n",
    "### Plot of the 6th machine's $\\mu$"
   ]
  },
  {
   "cell_type": "code",
   "execution_count": 27,
   "metadata": {},
   "outputs": [
    {
     "data": {
      "image/png": "[encoded data removed]",
      "text/plain": [
       "<Figure size 432x288 with 1 Axes>"
      ]
     },
     "metadata": {
      "needs_background": "light"
     },
     "output_type": "display_data"
    }
   ],
   "source": [
    "plt.hist(hier_fit.extract()['mu'][:,5],bins=20,ec='white')\n",
    "plt.title(r\"Posterior distribtuion of $\\mu_6$\")\n",
    "plt.xlabel(r\"$\\mu_6$\")\n",
    "plt.show()"
   ]
  },
  {
   "cell_type": "markdown",
   "metadata": {},
   "source": [
    "### ii) Predictive distribution for another quality measurement"
   ]
  },
  {
   "cell_type": "code",
   "execution_count": 28,
   "metadata": {},
   "outputs": [
    {
     "data": {
      "image/png": "[encoded data removed]",
      "text/plain": [
       "<Figure size 432x288 with 1 Axes>"
      ]
     },
     "metadata": {
      "needs_background": "light"
     },
     "output_type": "display_data"
    }
   ],
   "source": [
    "plt.hist(hier_y_pred,bins=20,ec='white')\n",
    "plt.show()"
   ]
  },
  {
   "cell_type": "markdown",
   "metadata": {},
   "source": [
    "### iii) Posterior mean distribution of the seventh machine\n",
    "We first need to sample a mean from the distribution of means and the common variance and then simulate quality predictions.\n",
    "\n",
    "$\\theta_7 = p(\\theta_7 | \\mu_p, \\sigma_p)$\n",
    "\n",
    "\n",
    "And simulate $y_ij$ with the above parameter \n",
    "\n",
    "$y_{ij} = p(y_ij| \\theta_7, \\sigma)$, where $\\sigma$ is the common parameter, as described in the exercise"
   ]
  },
  {
   "cell_type": "code",
   "execution_count": 29,
   "metadata": {},
   "outputs": [
    {
     "data": {
      "image/png": "[encoded data removed]",
      "text/plain": [
       "<Figure size 432x288 with 1 Axes>"
      ]
     },
     "metadata": {
      "needs_background": "light"
     },
     "output_type": "display_data"
    }
   ],
   "source": [
    "plt.hist(hier_fit.extract()['mu_pred'],bins=50,ec='white')\n",
    "plt.title(\"Posterior distribtuion of $\\mu_7$\")\n",
    "plt.xlabel(r\"$\\mu_7$\")\n",
    "plt.tight_layout()\n",
    "plt.show()"
   ]
  },
  {
   "cell_type": "code",
   "execution_count": 30,
   "metadata": {},
   "outputs": [
    {
     "data": {
      "image/png": "[encoded data removed]",
      "text/plain": [
       "<Figure size 432x288 with 1 Axes>"
      ]
     },
     "metadata": {
      "needs_background": "light"
     },
     "output_type": "display_data"
    }
   ],
   "source": [
    "plt.hist(hier_y7_pred,bins=20,ec='white')\n",
    "plt.title(\"Posterior Predicitive Distribution for $7^{th}$ Machine\")\n",
    "plt.tight_layout()\n",
    "plt.show()"
   ]
  }
 ],
 "metadata": {
  "kernelspec": {
   "display_name": "Python 3",
   "language": "python",
   "name": "python3"
  },
  "language_info": {
   "codemirror_mode": {
    "name": "ipython",
    "version": 3
   },
   "file_extension": ".py",
   "mimetype": "text/x-python",
   "name": "python",
   "nbconvert_exporter": "python",
   "pygments_lexer": "ipython3",
   "version": "3.6.6"
  }
 },
 "nbformat": 4,
 "nbformat_minor": 2
}
