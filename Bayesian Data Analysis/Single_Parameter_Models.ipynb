{
 "cells": [
  {
   "cell_type": "markdown",
   "metadata": {},
   "source": [
    "#### We first import the data and calulate the sample mean and variance \n",
    "Calculating the sample mean and sample variance of the data using the following definitions:\n",
    "$$ \\text{Sample Mean: } = \\bar{y} = \\frac{1}{n} \\cdot \\sum_{i=1}^n y_i$$\n",
    "$$ \\text{Sample Variance: } = s^2 = \\frac{1}{n-1} \\sum_{i=1}^n (y_i - \\bar{y})^2 $$"
   ]
  },
  {
   "cell_type": "code",
   "execution_count": 1,
   "metadata": {},
   "outputs": [
    {
     "name": "stdout",
     "output_type": "stream",
     "text": [
      "sample size: n = 9\n",
      "sample mean = 14.611222222222223\n",
      "sample variance 2.173152944444444\n"
     ]
    }
   ],
   "source": [
    "import numpy as np\n",
    "import scipy.stats\n",
    "import matplotlib.pyplot as plt\n",
    "\n",
    "#Load the data\n",
    "data = np.loadtxt('windshieldy1.txt', usecols=0, delimiter=\" \")\n",
    "\n",
    "n = data.size\n",
    "print('sample size: n =', n)\n",
    "sample_mean = np.mean(data)\n",
    "print('sample mean =', sample_mean)\n",
    "sample_variance = np.var(data,ddof=1)\n",
    "print('sample variance',sample_variance)\n"
   ]
  },
  {
   "cell_type": "markdown",
   "metadata": {},
   "source": [
    "#### Prior\n",
    "The prior of the multivariate model is for 2 parameters $\\mu$ and $\\sigma^2$ is given by a non-informative prior:\n",
    "$$ p(\\mu,\\sigma^2) \\propto \\sigma^-2 $$\n",
    "\n",
    "#### Likelihood \n",
    "The likelihood of the data is given by taking the product of many individual events occurring, it can be derived as:\n",
    "$$ y_i \\mid \\mu, \\sigma^2 \\sim N(\\mu,\\sigma^2) $$\n",
    "$$ p( y_i \\mid \\mu, \\sigma^2) = \\frac{1}{\\sqrt{2\\pi}\\sigma} exp\\left( -\\frac{1}{2\\sigma^2} \\cdot (y_i - \\mu)^2 \\right) $$\n",
    "Therefore the likelihood for n observations is \n",
    "$$ p( y \\mid \\mu, \\sigma^2) = \\prod_{i=1}^n p(y_i\\mid \\mu, \\sigma^2) $$\n",
    "$$\\textbf{likelihood: } \\quad p(y \\mid \\mu, \\sigma^2) \\propto \\frac{1}{\\sigma^n} exp\\left( -\\frac{1}{2\\sigma^2} \\cdot \\sum_{i=1}^n (y_i - \\mu)^2 \\right)$$ \n",
    "\n",
    "#### Marginal Posterior of $\\mu$\n",
    "\n",
    "The closed form of the Marginal Posterior distribution of $\\mu$ is  <br>\n",
    "$$ \\textbf{Marginal Posterior:}\\quad  p(\\mu \\mid y) = t_{n-1}(\\mu \\mid \\bar{y}, s^2/n)$$ <br>\n",
    "Where $t_{n-1}$ is a standard $Student-t$ distribution with $n-1$ degrees of freedom\n"
   ]
  },
  {
   "cell_type": "markdown",
   "metadata": {},
   "source": [
    "###  1 a)\n",
    "Find the **marginal posterior density of $\\mu$**, **mean** and the **95% Confidence interval** in the **output cell below** "
   ]
  },
  {
   "cell_type": "code",
   "execution_count": 2,
   "metadata": {},
   "outputs": [
    {
     "data": {
      "image/png": "[encoded data removed]",
      "text/plain": [
       "<Figure size 432x288 with 1 Axes>"
      ]
     },
     "metadata": {},
     "output_type": "display_data"
    }
   ],
   "source": [
    "#Define X\n",
    "x = np.linspace(0,25,1000)\n",
    "posterior_pdf = scipy.stats.t.pdf(x, df=n-1, loc=sample_mean, \n",
    "                                  scale=np.sqrt(sample_variance/n))\n",
    "plt.plot(x, posterior_pdf)\n",
    "plt.title('Marginal posterior density of $\\mu$')\n",
    "plt.show()"
   ]
  },
  {
   "cell_type": "code",
   "execution_count": 3,
   "metadata": {},
   "outputs": [
    {
     "name": "stdout",
     "output_type": "stream",
     "text": [
      "point estimate for mu=  14.611222222222223\n",
      "interval estimate for mu (13.478081171149812, 15.744363273294633)\n"
     ]
    }
   ],
   "source": [
    "#point estimate\n",
    "posterior_mean = scipy.stats.t.mean(df=n-1, loc=sample_mean,\n",
    "                                    scale=np.sqrt(sample_variance/n))\n",
    "#95% central interval\n",
    "post_95_interval = scipy.stats.t.interval(0.95,df=n-1, loc=sample_mean,\n",
    "                                          scale=np.sqrt(sample_variance/n))\n",
    "\n",
    "print('point estimate for mu= ', posterior_mean)\n",
    "print('interval estimate for mu', post_95_interval)"
   ]
  },
  {
   "cell_type": "markdown",
   "metadata": {},
   "source": [
    "In, Conclusion we see no difference in the sample mean and the point estimate of mu, as we used non-informative prior."
   ]
  },
  {
   "cell_type": "markdown",
   "metadata": {},
   "source": [
    "### 1 b)\n",
    "\n",
    "The probability of the next item $\\tilde{y}$ is given by the posterior predictive distribution is also given as a t distribution <br>\n",
    "\n",
    "$$ p(\\tilde{y} \\mid y) = t_{n-1}\\left(\\tilde{y} \\mid \\bar{y},\\left(1+\\frac{1}{n}\\right)s^2\\right) $$\n"
   ]
  },
  {
   "cell_type": "code",
   "execution_count": 4,
   "metadata": {},
   "outputs": [
    {
     "data": {
      "image/png": "[encoded data removed]",
      "text/plain": [
       "<Figure size 432x288 with 1 Axes>"
      ]
     },
     "metadata": {},
     "output_type": "display_data"
    },
    {
     "name": "stdout",
     "output_type": "stream",
     "text": [
      "Post predictive point estimate = 14.611222222222223\n",
      "Post predictive interval estimate= (11.027915590596221, 18.194528853848226)\n"
     ]
    }
   ],
   "source": [
    "post_pred_pdf =scipy.stats.t.pdf(x,n-1,sample_mean,np.sqrt(sample_variance*(1+(1/n))))\n",
    "plt.plot(x, post_pred_pdf)\n",
    "plt.title('Posterior predictive density')\n",
    "plt.show()\n",
    "\n",
    "pos_ped_mean=scipy.stats.t.mean(n-1,sample_mean,\n",
    "                                np.sqrt(sample_variance*(1+(1/n))))\n",
    "pos_ped_int=scipy.stats.t.interval(0.95,n-1,sample_mean,\n",
    "                                   np.sqrt(sample_variance*(1+(1/n))))\n",
    "print('Post predictive point estimate =',pos_ped_mean)\n",
    "print('Post predictive interval estimate=',pos_ped_int)"
   ]
  },
  {
   "cell_type": "markdown",
   "metadata": {},
   "source": [
    "In conclusion with respect to the hardness of the next coming windshield, we see that the mean remains the same, but the interval estimate has increased."
   ]
  },
  {
   "cell_type": "markdown",
   "metadata": {},
   "source": [
    "## 2. Inference for difference between proportions\n",
    "### 2 a)\n",
    "The control group:\n",
    "\n",
    "- The sample size $n_0 = 674$\n",
    "\n",
    "- The number of successes $y_0 = 39$\n",
    "\n",
    "\n",
    "The treatment group:\n",
    "\n",
    "- The sample size $n_1 = 680$\n",
    "\n",
    "- The number of successes $y_1 = 22$\n",
    "\n",
    "\n",
    "Let us choose as non-informative prior distribution the uniform prior distribution $Beta(1,1)$ on $(p_{0}, p_{1})$.\n",
    "\n",
    "So we have the priors:\n",
    "\n",
    "- $p(p_{0}) = Beta(\\alpha_{0} = 1, \\beta_{0} = 1)$\n",
    "\n",
    "- $p(p_{1}) = Beta(\\alpha_{1} = 1, \\beta_{1} = 1)$\n",
    "\n",
    "and the posterior distributions:\n",
    "\n",
    "- $p(p_{0}|y) = Beta(p_{0}|\\alpha_{0} + y_{0}, \\beta_{0} + n_{0} - y_{0})$\n",
    "\n",
    "- $p(p_{1}|y) = Beta(p_{1}|\\alpha_{1} + y_{1}, \\beta_{1} + n_{1} - y_{1})$\n",
    "\n",
    "\n",
    "Let us draw random samples from posterior distributions of $p_{0}$ and $p_{1}$, and use these samples to calculate the odds ratio $(p_{1}/(1-p_{1}))/(p_{0}/(1-p_{0}))$. For the odds ratio, we compute the point and interval estimates and plot the histogram."
   ]
  },
  {
   "cell_type": "code",
   "execution_count": 5,
   "metadata": {},
   "outputs": [
    {
     "data": {
      "image/png": "[encoded data removed]",
      "text/plain": [
       "<Figure size 432x288 with 1 Axes>"
      ]
     },
     "metadata": {},
     "output_type": "display_data"
    },
    {
     "name": "stdout",
     "output_type": "stream",
     "text": [
      "point estimate for odds = 0.5699900688097185\n",
      "central 95% interval for odds = [0.3220875568067054, 0.9237354009071506]\n"
     ]
    }
   ],
   "source": [
    "n0 = 674\n",
    "y0 = 39\n",
    "a0 = 1\n",
    "b0 = 1\n",
    "\n",
    "n1 = 680\n",
    "y1 = 22\n",
    "a1 = 1\n",
    "b1 = 1\n",
    "\n",
    "#Taking random sample size as 100000\n",
    "\n",
    "post_0_sample=scipy.stats.beta.rvs(a0+y0,b0+n0-y0,size=100000)\n",
    "post_1_sample=scipy.stats.beta.rvs(a1+y1,b1+n1-y1,size=100000)\n",
    "odds=((post_1_sample/(1-post_1_sample)))/(post_0_sample/(1-post_0_sample))\n",
    "\n",
    "plt.hist(odds)\n",
    "plt.show()\n",
    "\n",
    "odds_size = odds.size\n",
    "#print(odds_size)\n",
    "odds_sorted = np.sort(odds)\n",
    "lower_index = int(odds_size*0.025)\n",
    "upper_index = int(odds_size*0.975)\n",
    "odds_mean = np.mean(odds)\n",
    "odds_interval = [odds_sorted[lower_index], odds_sorted[upper_index]]\n",
    "\n",
    "print('point estimate for odds =', odds_mean)\n",
    "print('central 95% interval for odds =', odds_interval)"
   ]
  },
  {
   "cell_type": "markdown",
   "metadata": {},
   "source": [
    "### 2 b)\n",
    "Taking alpha=10 and beta=2, to perform a sensitivity analysis of priors"
   ]
  },
  {
   "cell_type": "code",
   "execution_count": 6,
   "metadata": {},
   "outputs": [
    {
     "name": "stdout",
     "output_type": "stream",
     "text": [
      "point estimate for odds = 0.6451028233050041\n",
      "central 95% interval for odds = [0.3947901920408184, 0.991038508036016]\n"
     ]
    }
   ],
   "source": [
    "a0,b0,a1,b1=10,2,10,2\n",
    "post_0_sample=scipy.stats.beta.rvs(a0+y0,b0+n0-y0,size=100000)\n",
    "post_1_sample=scipy.stats.beta.rvs(a1+y1,b1+n1-y1,size=100000)\n",
    "\n",
    "#Formulae for odds\n",
    "odds=((post_1_sample/(1-post_1_sample)))/(post_0_sample/(1-post_0_sample))\n",
    "\n",
    "odds_size = odds.size\n",
    "#print(odds_size)\n",
    "odds_sorted = np.sort(odds)\n",
    "lower_index = int(odds_size*0.025)\n",
    "upper_index = int(odds_size*0.975)\n",
    "odds_mean = np.mean(odds)\n",
    "odds_interval = [odds_sorted[lower_index], odds_sorted[upper_index]]\n",
    "\n",
    "print('point estimate for odds =', odds_mean)\n",
    "print('central 95% interval for odds =', odds_interval)"
   ]
  },
  {
   "cell_type": "markdown",
   "metadata": {},
   "source": [
    "In Conclusion we only see a very slight difference between the point and interval estimates, which signify that our odds is not very sensitive to the priors when alpha and beta values dont vary much, but if alpha and beta values are very dissimilar then the odds will tend towards one, as the values of alpha and beta affect the odds ratio."
   ]
  },
  {
   "cell_type": "markdown",
   "metadata": {},
   "source": [
    "### 3) Inference for difference between normal means\n",
    "#### 3 a)\n",
    "We use the same definitions as we have used in problem 1"
   ]
  },
  {
   "cell_type": "code",
   "execution_count": 7,
   "metadata": {
    "scrolled": false
   },
   "outputs": [
    {
     "data": {
      "image/png": "[encoded data removed]",
      "text/plain": [
       "<Figure size 432x288 with 1 Axes>"
      ]
     },
     "metadata": {},
     "output_type": "display_data"
    },
    {
     "name": "stdout",
     "output_type": "stream",
     "text": [
      "Mean(POINT) of the mu_d -1.2101429162460027\n",
      "interval estimate of mu_d [-2.43957385  0.01869518]\n"
     ]
    }
   ],
   "source": [
    "data2 = np.loadtxt('windshieldy2.txt', usecols=0, delimiter=\" \")\n",
    "n2=data2.size\n",
    "sample_mean2=np.mean(data2)\n",
    "sample_variance2=np.var(data2)\n",
    "# random sample size is 100000\n",
    "u1 = scipy.stats.t.rvs(df=n-1, loc=sample_mean,\n",
    "                       scale=np.sqrt(sample_variance/n),size=100000)\n",
    "\n",
    "u2 = scipy.stats.t.rvs(df=n2-1, loc=sample_mean2,\n",
    "                       scale=np.sqrt(sample_variance2/n2),size=100000)\n",
    "\n",
    "dist=u1-u2\n",
    "\n",
    "plt.hist(dist)\n",
    "plt.show()\n",
    "\n",
    "print(\"Mean(POINT) of the mu_d\",np.mean(dist))\n",
    "print(\"interval estimate of mu_d\",np.percentile(dist,[2.5,97.5]))"
   ]
  },
  {
   "cell_type": "markdown",
   "metadata": {},
   "source": [
    "Conclusion,\n",
    "values of $\\mu_{d}$ are mostly negative, which we can infer from the point estimate and the interval estimate mentioned above"
   ]
  },
  {
   "cell_type": "markdown",
   "metadata": {},
   "source": [
    "#### 3 b)\n",
    "The means are not the same, this is due to the fact that the value of $\\mu_{d}$ is negative, if the means were similar or same, the value we would get is zero or close to zero, in our case $\\mu_{d}$ is negative which signifies the mean value $\\mu_{2}$ is higher when compared to the mean value $\\mu_{1}$"
   ]
  }
 ],
 "metadata": {
  "kernelspec": {
   "display_name": "Python 3",
   "language": "python",
   "name": "python3"
  },
  "language_info": {
   "codemirror_mode": {
    "name": "ipython",
    "version": 3
   },
   "file_extension": ".py",
   "mimetype": "text/x-python",
   "name": "python",
   "nbconvert_exporter": "python",
   "pygments_lexer": "ipython3",
   "version": "3.6.5"
  }
 },
 "nbformat": 4,
 "nbformat_minor": 2
}
